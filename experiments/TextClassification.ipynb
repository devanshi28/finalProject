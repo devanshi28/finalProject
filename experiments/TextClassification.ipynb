{
 "cells": [
  {
   "cell_type": "code",
   "execution_count": 1,
   "metadata": {},
   "outputs": [],
   "source": [
    "import nltk\n",
    "from nltk.corpus import stopwords\n",
    "from nltk.stem import WordNetLemmatizer\n",
    "\n",
    "import itertools\n",
    "import numpy as np\n",
    "import pandas as pd\n",
    "pd.set_option('max_colwidth',100)\n",
    "\n",
    "import matplotlib.pyplot as plt\n",
    "%matplotlib inline\n",
    "\n",
    "from sklearn.feature_extraction.text import CountVectorizer\n",
    "from sklearn.feature_extraction.text import TfidfVectorizer\n",
    "from sklearn.naive_bayes import MultinomialNB\n",
    "from sklearn.metrics import confusion_matrix, classification_report\n",
    "import csv\n",
    "\n"
   ]
  },
  {
   "cell_type": "code",
   "execution_count": 2,
   "metadata": {},
   "outputs": [],
   "source": [
    "def preprocessing(text):\n",
    "#     text = text.decode(\"utf8\")\n",
    "    # tokenize into words\n",
    "    tokens = [word for sent in nltk.sent_tokenize(text) for word in nltk.word_tokenize(sent)]\n",
    "\n",
    "    # remove stopwords\n",
    "    stop = stopwords.words('english')\n",
    "    tokens = [token for token in tokens if token not in stop]\n",
    "\n",
    "    # remove words less than three letters\n",
    "    tokens = [word for word in tokens if len(word) >= 3]\n",
    "\n",
    "    # lower capitalization\n",
    "    tokens = [word.lower() for word in tokens]\n",
    "\n",
    "    # lemmatize\n",
    "    lmtzr = WordNetLemmatizer()\n",
    "    tokens = [lmtzr.lemmatize(word) for word in tokens]\n",
    "    preprocessed_text= ' '.join(tokens)\n",
    "\n",
    "    return preprocessed_text"
   ]
  },
  {
   "cell_type": "code",
   "execution_count": 3,
   "metadata": {},
   "outputs": [],
   "source": [
    "def modelbuilding(sms_data,sms_labels):\n",
    "    '''\n",
    "    This is an example pipline to building a text classifier\n",
    "    1. sampling\n",
    "    2. TfidfVectorizer conversion\n",
    "    3. building a naive_bayes model\n",
    "    4. print the accuracy and other metrics\n",
    "    5. print most relavent features \n",
    "    '''\n",
    "\n",
    "    # sampling steps \n",
    "    trainset_size = int(round(len(sms_data)*0.70))\n",
    "    # i chose this threshold for 70:30 train and test split.\n",
    "    print( 'The training set size for this classifier is ' + str(trainset_size) + '\\n')\n",
    "    x_train = np.array([''.join(el) for el in sms_data[0:trainset_size]])\n",
    "    y_train = np.array([el for el in sms_labels[0:trainset_size]])\n",
    "    x_test = np.array([''.join(el) for el in sms_data[trainset_size+1:len(sms_data)]])\n",
    "    y_test = np.array([el for el in sms_labels[trainset_size+1:len(sms_labels)]])\n",
    "    print (x_train[1])\n",
    "    print (y_train[1])\n",
    "\n",
    "    # count vectorizer \n",
    "    # not really used just for explanation \n",
    "    from sklearn.feature_extraction.text import CountVectorizer\n",
    "    sms_exp=[ ]\n",
    "    for line in sms_data:\n",
    "        sms_exp.append(line) #preprocessing(line[1])\n",
    "    vectorizer = CountVectorizer(min_df=1)\n",
    "    X_exp = vectorizer.fit_transform(sms_exp)\n",
    "    print(\"||\".join(vectorizer.get_feature_names()))\n",
    "    print(X_exp.toarray()[1:5])\n",
    "\n",
    "    # We are building a TFIDF vectorizer here\n",
    "    from sklearn.feature_extraction.text import TfidfVectorizer\n",
    "    vectorizer = TfidfVectorizer(min_df=2, ngram_range=(1, 2),  stop_words='english',  strip_accents='unicode',  norm='l2')\n",
    "    X_train = vectorizer.fit_transform(x_train)\n",
    "    X_test = vectorizer.transform(x_test)\n",
    "\n",
    "    from sklearn.naive_bayes import MultinomialNB\n",
    "    clf = MultinomialNB().fit(X_train, y_train)\n",
    "    y_nb_predicted = clf.predict(X_test)\n",
    "    print(y_nb_predicted)\n",
    "    print( ' \\n confusion_matrix \\n ')\n",
    "    cm = confusion_matrix(y_test, y_pred)\n",
    "    print (cm)\n",
    "    print ('\\n Here is the classification report:')\n",
    "    print (classification_report(y_test, y_nb_predicted))\n",
    "    # print the top features \n",
    "\n",
    "    coefs = clf.coef_\n",
    "    intercept = clf.intercept_\n",
    "    coefs_with_fns = sorted(zip(clf.coef_[0], feature_names))\n",
    "    n=10\n",
    "    top = zip(coefs_with_fns[:n], coefs_with_fns[:-(n + 1):-1])\n",
    "    for (coef_1, fn_1), (coef_2, fn_2) in top:\n",
    "        print('\\t%.4f\\t%-15s\\t\\t%.4f\\t%-15s' % (coef_1, fn_1, coef_2, fn_2))\n"
   ]
  },
  {
   "cell_type": "code",
   "execution_count": null,
   "metadata": {},
   "outputs": [],
   "source": [
    "def plot_confusion_matrix(cm, classes,\n",
    "                          normalize=False,\n",
    "                          title='Confusion matrix',\n",
    "                          cmap=plt.cm.Blues):\n",
    "    \"\"\"\n",
    "    This function prints and plots the confusion matrix.\n",
    "    Normalization can be applied by setting `normalize=True`.\n",
    "    \"\"\"\n",
    "    if normalize:\n",
    "        cm = cm.astype('float') / cm.sum(axis=1)[:, np.newaxis]\n",
    "        print(\"Normalized confusion matrix\")\n",
    "    else:\n",
    "        print('Confusion matrix, without normalization')\n",
    "\n",
    "    print(cm)\n",
    "\n",
    "    plt.imshow(cm, interpolation='nearest', cmap=cmap)\n",
    "    plt.title(title)\n",
    "    plt.colorbar()\n",
    "    tick_marks = np.arange(len(classes))\n",
    "    plt.xticks(tick_marks, classes, rotation=45)\n",
    "    plt.yticks(tick_marks, classes)\n",
    "\n",
    "    fmt = '.2f' if normalize else 'd'\n",
    "    thresh = cm.max() / 2.\n",
    "    for i, j in itertools.product(range(cm.shape[0]), range(cm.shape[1])):\n",
    "        plt.text(j, i, format(cm[i, j], fmt),\n",
    "                 horizontalalignment=\"center\",\n",
    "                 color=\"white\" if cm[i, j] > thresh else \"black\")\n",
    "\n",
    "    plt.tight_layout()\n",
    "    plt.ylabel('True label')\n",
    "    plt.xlabel('Predicted label')"
   ]
  },
  {
   "cell_type": "code",
   "execution_count": 5,
   "metadata": {},
   "outputs": [],
   "source": [
    "sms = open('C:/Users/Devanshi/Downloads/smsspamcollection/SMSSpamCollection') # check the structure of this file!\n",
    "sms_data = []\n",
    "sms_labels = []\n",
    "csv_reader = csv.reader(sms,delimiter='\\t')\n",
    "\n",
    "for line in csv_reader:\n",
    "     # adding the sms_id \n",
    "    sms_labels.append( line[0])\n",
    "    # adding the cleaned text We are calling preprocessing method \n",
    "    sms_data.append(preprocessing(line[1]))\n",
    "\n",
    "sms.close()\n",
    "\n",
    "# we are calling the model builing function here\n",
    "# modelbuilding(sms_data, sms_labels)"
   ]
  },
  {
   "cell_type": "code",
   "execution_count": 6,
   "metadata": {},
   "outputs": [
    {
     "name": "stdout",
     "output_type": "stream",
     "text": [
      "The training set size for this classifier is 3900\n",
      "\n",
      "['jurong point crazy.. available bugis great world buffet ... cine got amore wat ...'\n",
      " 'lar ... joking wif oni ...'\n",
      " 'free entry wkly comp win cup final tkts 21st may 2005 text 87121 receive entry question std txt rate apply 08452810075over18'\n",
      " ...\n",
      " 'tell call 09066358152 claim â£5000 prize enter mobile personal detail prompt careful'\n",
      " \"thank you 've wonderful\" 'otherwise part time job na-tuition..']\n",
      "['ham' 'ham' 'spam' ... 'spam' 'ham' 'ham']\n"
     ]
    }
   ],
   "source": [
    "# sampling steps \n",
    "trainset_size = int(round(len(sms_data)*0.70))\n",
    "# i chose this threshold for 70:30 train and test split.\n",
    "print( 'The training set size for this classifier is ' + str(trainset_size) + '\\n')\n",
    "x_train = np.array([''.join(el) for el in sms_data[0:trainset_size]])\n",
    "y_train = np.array([el for el in sms_labels[0:trainset_size]])\n",
    "x_test = np.array([''.join(el) for el in sms_data[trainset_size+1:len(sms_data)]])\n",
    "y_test = np.array([el for el in sms_labels[trainset_size+1:len(sms_labels)]])\n",
    "print (x_train)\n",
    "print (y_train)"
   ]
  },
  {
   "cell_type": "code",
   "execution_count": 7,
   "metadata": {},
   "outputs": [
    {
     "name": "stdout",
     "output_type": "stream",
     "text": [
      "000||000pes||008704050406||0089||0121||01223585236||01223585334||0125698789||02\n",
      "\n",
      "\n",
      "[[0 0 0 ... 0 0 0]\n",
      " [0 0 0 ... 0 0 0]\n",
      " [0 0 0 ... 0 0 0]\n",
      " [0 0 0 ... 0 0 0]]\n"
     ]
    }
   ],
   "source": [
    "# count vectorizer \n",
    "# not really used just for explanation \n",
    "\n",
    "sms_exp=[ ]\n",
    "for line in sms_data:\n",
    "    sms_exp.append(line) #preprocessing(line[1])\n",
    "vectorizer = CountVectorizer(min_df=1)\n",
    "X_exp = vectorizer.fit_transform(sms_exp)\n",
    "\n",
    "print(\"||\".join(vectorizer.get_feature_names()[1:10]))\n",
    "print('\\n')\n",
    "print(X_exp.toarray()[1:5])"
   ]
  },
  {
   "cell_type": "code",
   "execution_count": 8,
   "metadata": {},
   "outputs": [],
   "source": [
    "# We are building a TFIDF vectorizer here\n",
    "\n",
    "vectorizer = TfidfVectorizer(min_df=2, ngram_range=(1, 2),  \n",
    "                             stop_words='english',  strip_accents='unicode',  norm='l2')\n",
    "\n",
    "X_train = vectorizer.fit_transform(x_train)\n",
    "X_test = vectorizer.transform(x_test)"
   ]
  },
  {
   "cell_type": "code",
   "execution_count": 9,
   "metadata": {},
   "outputs": [
    {
     "name": "stdout",
     "output_type": "stream",
     "text": [
      "['ham' 'ham' 'ham' ... 'ham' 'ham' 'ham']\n",
      " \n",
      " confusion_matrix \n",
      " \n",
      "[[1443    0]\n",
      " [  52  176]]\n",
      "\n",
      " Here is the classification report:\n",
      "             precision    recall  f1-score   support\n",
      "\n",
      "        ham       0.97      1.00      0.98      1443\n",
      "       spam       1.00      0.77      0.87       228\n",
      "\n",
      "avg / total       0.97      0.97      0.97      1671\n",
      "\n"
     ]
    }
   ],
   "source": [
    "\n",
    "clf = MultinomialNB().fit(X_train, y_train)\n",
    "y_nb_predicted = clf.predict(X_test)\n",
    "print(y_nb_predicted)\n",
    "\n",
    "print( ' \\n confusion_matrix \\n ')\n",
    "cm = confusion_matrix(y_test, y_nb_predicted)\n",
    "print (cm)\n",
    "print ('\\n Here is the classification report:')\n",
    "print (classification_report(y_test, y_nb_predicted))\n"
   ]
  },
  {
   "cell_type": "code",
   "execution_count": 15,
   "metadata": {},
   "outputs": [
    {
     "name": "stdout",
     "output_type": "stream",
     "text": [
      "Confusion matrix, without normalization\n",
      "[[1443    0]\n",
      " [  52  176]]\n",
      "Normalized confusion matrix\n",
      "[[1.   0.  ]\n",
      " [0.23 0.77]]\n"
     ]
    },
    {
     "data": {
      "image/png": "[encoded data removed]",
      "text/plain": [
       "<Figure size 432x288 with 2 Axes>"
      ]
     },
     "metadata": {},
     "output_type": "display_data"
    },
    {
     "data": {
      "image/png": "[encoded data removed]",
      "text/plain": [
       "<Figure size 432x288 with 2 Axes>"
      ]
     },
     "metadata": {},
     "output_type": "display_data"
    }
   ],
   "source": [
    "# Compute confusion matrix\n",
    "cnf_matrix = confusion_matrix(y_test, y_nb_predicted)\n",
    "np.set_printoptions(precision=2)\n",
    "class_names = list(set(y_train))\n",
    "\n",
    "# Plot non-normalized confusion matrix\n",
    "plt.figure()\n",
    "plot_confusion_matrix(cnf_matrix, classes=class_names,\n",
    "                      title='Confusion matrix, without normalization')\n",
    "\n",
    "# Plot normalized confusion matrix\n",
    "plt.figure()\n",
    "plot_confusion_matrix(cnf_matrix, classes=class_names, normalize=True,\n",
    "                      title='Normalized confusion matrix')\n",
    "\n",
    "plt.show()"
   ]
  },
  {
   "cell_type": "code",
   "execution_count": 22,
   "metadata": {},
   "outputs": [
    {
     "name": "stdout",
     "output_type": "stream",
     "text": [
      "\t-9.0068\t15             \t\t-5.9369\tfree           \n",
      "\t-9.0068\t1hr            \t\t-6.1690\ttxt            \n",
      "\t-9.0068\t1st lovely     \t\t-6.2640\ttext           \n",
      "\t-9.0068\t2go            \t\t-6.3722\tclaim          \n",
      "\t-9.0068\t2morrow        \t\t-6.4473\tstop           \n",
      "\t-9.0068\t2mrw           \t\t-6.4558\tmobile         \n",
      "\t-9.0068\t2nd inning     \t\t-6.5161\treply          \n",
      "\t-9.0068\t2nd sm         \t\t-6.5283\tprize          \n",
      "\t-9.0068\t30             \t\t-6.5454\tservice        \n",
      "\t-9.0068\t30 want        \t\t-6.5853\ttone           \n",
      "\t-9.0068\t30ish          \t\t-6.6168\twww            \n",
      "\t-9.0068\t3rd            \t\t-6.7365\t150p           \n",
      "\t-9.0068\t3rd nature     \t\t-6.7419\tnew            \n",
      "\t-9.0068\t48             \t\t-6.8009\tmsg            \n",
      "\t-9.0068\t4get           \t\t-6.8027\turgent         \n",
      "\t-9.0068\t4th            \t\t-6.8078\tcash           \n",
      "\t-9.0068\t4th personality\t\t-6.8445\tnokia          \n",
      "\t-9.0068\t530            \t\t-6.8912\twin            \n",
      "\t-9.0068\t5min           \t\t-6.9026\tuk             \n",
      "\t-9.0068\t5pm            \t\t-6.9267\tweek           \n"
     ]
    }
   ],
   "source": [
    "# print the top features \n",
    "coefs = clf.coef_\n",
    "intercept = clf.intercept_\n",
    "feature_names = vectorizer.get_feature_names()\n",
    "coefs_with_fns = sorted(zip(clf.coef_[0], feature_names))\n",
    "\n",
    "n=20\n",
    "top = zip(coefs_with_fns[:n], coefs_with_fns[:-(n + 1):-1])\n",
    "\n",
    "for (coef_1, fn_1), (coef_2, fn_2) in top:\n",
    "    print('\\t%.4f\\t%-15s\\t\\t%.4f\\t%-15s' % (coef_1, fn_1, coef_2, fn_2))"
   ]
  },
  {
   "cell_type": "code",
   "execution_count": 20,
   "metadata": {},
   "outputs": [],
   "source": []
  },
  {
   "cell_type": "code",
   "execution_count": null,
   "metadata": {},
   "outputs": [],
   "source": []
  },
  {
   "cell_type": "code",
   "execution_count": null,
   "metadata": {},
   "outputs": [],
   "source": []
  },
  {
   "cell_type": "code",
   "execution_count": null,
   "metadata": {},
   "outputs": [],
   "source": []
  },
  {
   "cell_type": "code",
   "execution_count": null,
   "metadata": {},
   "outputs": [],
   "source": []
  },
  {
   "cell_type": "markdown",
   "metadata": {},
   "source": [
    "## Pandas DF"
   ]
  },
  {
   "cell_type": "code",
   "execution_count": 37,
   "metadata": {},
   "outputs": [
    {
     "data": {
      "text/html": [
       "<div>\n",
       "<style scoped>\n",
       "    .dataframe tbody tr th:only-of-type {\n",
       "        vertical-align: middle;\n",
       "    }\n",
       "\n",
       "    .dataframe tbody tr th {\n",
       "        vertical-align: top;\n",
       "    }\n",
       "\n",
       "    .dataframe thead th {\n",
       "        text-align: right;\n",
       "    }\n",
       "</style>\n",
       "<table border=\"1\" class=\"dataframe\">\n",
       "  <thead>\n",
       "    <tr style=\"text-align: right;\">\n",
       "      <th></th>\n",
       "      <th>sms_labels</th>\n",
       "      <th>sms_data</th>\n",
       "    </tr>\n",
       "  </thead>\n",
       "  <tbody>\n",
       "    <tr>\n",
       "      <th>0</th>\n",
       "      <td>ham</td>\n",
       "      <td>Go until jurong point, crazy.. Available only in bugis n great world la e buffet... Cine there g...</td>\n",
       "    </tr>\n",
       "    <tr>\n",
       "      <th>1</th>\n",
       "      <td>ham</td>\n",
       "      <td>Ok lar... Joking wif u oni...</td>\n",
       "    </tr>\n",
       "    <tr>\n",
       "      <th>2</th>\n",
       "      <td>spam</td>\n",
       "      <td>Free entry in 2 a wkly comp to win FA Cup final tkts 21st May 2005. Text FA to 87121 to receive ...</td>\n",
       "    </tr>\n",
       "    <tr>\n",
       "      <th>3</th>\n",
       "      <td>ham</td>\n",
       "      <td>U dun say so early hor... U c already then say...</td>\n",
       "    </tr>\n",
       "    <tr>\n",
       "      <th>4</th>\n",
       "      <td>ham</td>\n",
       "      <td>Nah I don't think he goes to usf, he lives around here though</td>\n",
       "    </tr>\n",
       "  </tbody>\n",
       "</table>\n",
       "</div>"
      ],
      "text/plain": [
       "  sms_labels  \\\n",
       "0        ham   \n",
       "1        ham   \n",
       "2       spam   \n",
       "3        ham   \n",
       "4        ham   \n",
       "\n",
       "                                                                                              sms_data  \n",
       "0  Go until jurong point, crazy.. Available only in bugis n great world la e buffet... Cine there g...  \n",
       "1                                                                        Ok lar... Joking wif u oni...  \n",
       "2  Free entry in 2 a wkly comp to win FA Cup final tkts 21st May 2005. Text FA to 87121 to receive ...  \n",
       "3                                                    U dun say so early hor... U c already then say...  \n",
       "4                                        Nah I don't think he goes to usf, he lives around here though  "
      ]
     },
     "execution_count": 37,
     "metadata": {},
     "output_type": "execute_result"
    }
   ],
   "source": [
    "df = pd.read_csv('C:/Users/Devanshi/Downloads/smsspamcollection/SMSSpamCollection.csv', encoding=\"ISO-8859-1\", names=['sms_labels','sms_data'])\n",
    "df.head()"
   ]
  },
  {
   "cell_type": "code",
   "execution_count": null,
   "metadata": {},
   "outputs": [],
   "source": [
    "df."
   ]
  },
  {
   "cell_type": "code",
   "execution_count": null,
   "metadata": {},
   "outputs": [],
   "source": []
  },
  {
   "cell_type": "code",
   "execution_count": null,
   "metadata": {},
   "outputs": [],
   "source": [
    "\n",
    "\n",
    "\n"
   ]
  },
  {
   "cell_type": "code",
   "execution_count": null,
   "metadata": {},
   "outputs": [],
   "source": []
  },
  {
   "cell_type": "code",
   "execution_count": null,
   "metadata": {},
   "outputs": [],
   "source": []
  },
  {
   "cell_type": "code",
   "execution_count": null,
   "metadata": {},
   "outputs": [],
   "source": []
  },
  {
   "cell_type": "code",
   "execution_count": null,
   "metadata": {},
   "outputs": [],
   "source": []
  },
  {
   "cell_type": "code",
   "execution_count": null,
   "metadata": {},
   "outputs": [],
   "source": []
  },
  {
   "cell_type": "code",
   "execution_count": null,
   "metadata": {},
   "outputs": [],
   "source": []
  },
  {
   "cell_type": "code",
   "execution_count": null,
   "metadata": {},
   "outputs": [],
   "source": []
  },
  {
   "cell_type": "code",
   "execution_count": null,
   "metadata": {},
   "outputs": [],
   "source": []
  }
 ],
 "metadata": {
  "kernelspec": {
   "display_name": "Python (nlp)",
   "language": "python",
   "name": "nlp-python"
  },
  "language_info": {
   "codemirror_mode": {
    "name": "ipython",
    "version": 3
   },
   "file_extension": ".py",
   "mimetype": "text/x-python",
   "name": "python",
   "nbconvert_exporter": "python",
   "pygments_lexer": "ipython3",
   "version": "3.6.5"
  }
 },
 "nbformat": 4,
 "nbformat_minor": 2
}
