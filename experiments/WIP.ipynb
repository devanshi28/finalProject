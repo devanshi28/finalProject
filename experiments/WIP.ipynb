{
 "cells": [
  {
   "cell_type": "code",
   "execution_count": 1,
   "metadata": {},
   "outputs": [],
   "source": [
    "# importing required packages\n",
    "from pathlib import Path\n",
    "\n",
    "import pandas as pd\n",
    "import numpy as np\n",
    "\n",
    "import matplotlib.pyplot as plt\n",
    "import seaborn as sns\n",
    "\n",
    "import spacy\n",
    "nlp = spacy.load('en')\n",
    "\n",
    "from spacy import displacy\n",
    "#from spacy.lang.en import English\n",
    "#parser = English()\n",
    "\n",
    "#from tqdm import tqdm\n",
    "\n",
    "\n",
    "from sklearn.model_selection import train_test_split\n",
    "from sklearn.feature_extraction.text import CountVectorizer, TfidfVectorizer\n",
    "from sklearn.preprocessing import StandardScaler\n",
    "from sklearn.pipeline import Pipeline\n",
    "from sklearn.base import BaseEstimator, TransformerMixin \n",
    "\n",
    "from sklearn.linear_model import LinearRegression, Ridge, Lasso\n",
    "from sklearn.model_selection import GridSearchCV\n",
    "from sklearn.metrics import accuracy_score, mean_squared_error, r2_score, cohen_kappa_score\n",
    "\n",
    "from scipy.sparse import csr_matrix\n",
    "\n",
    "np.random.seed(42)\n",
    "%matplotlib inline"
   ]
  },
  {
   "cell_type": "code",
   "execution_count": 2,
   "metadata": {},
   "outputs": [],
   "source": [
    "# set up display area to show dataframe in jupyter qtconsole\n",
    "\n",
    "#pd.set_option('display.height', 1000)\n",
    "#pd.set_option('display.max_rows', 500)\n",
    "pd.set_option('display.max_columns', 50)\n",
    "#pd.set_option('display.width', 1000)\n",
    "\n",
    "pd.set_option('display.max_colwidth', -1)"
   ]
  },
  {
   "cell_type": "code",
   "execution_count": 3,
   "metadata": {},
   "outputs": [
    {
     "name": "stdout",
     "output_type": "stream",
     "text": [
      "C:\\Users\\Devanshi\\Desktop\\finalProject\\data\\asap-sas\n"
     ]
    },
    {
     "data": {
      "text/html": [
       "<div>\n",
       "<style scoped>\n",
       "    .dataframe tbody tr th:only-of-type {\n",
       "        vertical-align: middle;\n",
       "    }\n",
       "\n",
       "    .dataframe tbody tr th {\n",
       "        vertical-align: top;\n",
       "    }\n",
       "\n",
       "    .dataframe thead th {\n",
       "        text-align: right;\n",
       "    }\n",
       "</style>\n",
       "<table border=\"1\" class=\"dataframe\">\n",
       "  <thead>\n",
       "    <tr style=\"text-align: right;\">\n",
       "      <th></th>\n",
       "      <th>Id</th>\n",
       "      <th>EssaySet</th>\n",
       "      <th>subject</th>\n",
       "      <th>studentGrade</th>\n",
       "      <th>EssayText</th>\n",
       "      <th>Score1</th>\n",
       "    </tr>\n",
       "  </thead>\n",
       "  <tbody>\n",
       "    <tr>\n",
       "      <th>0</th>\n",
       "      <td>1</td>\n",
       "      <td>1</td>\n",
       "      <td>Science</td>\n",
       "      <td>10</td>\n",
       "      <td>Some additional information that we would need to replicate the experiment is how much vinegar should be placed in each identical container, how or what tool to use to measure the mass of the four different samples and how much distilled water to use to rinse the four samples after taking them out of the vinegar.</td>\n",
       "      <td>1</td>\n",
       "    </tr>\n",
       "    <tr>\n",
       "      <th>1</th>\n",
       "      <td>2</td>\n",
       "      <td>1</td>\n",
       "      <td>Science</td>\n",
       "      <td>10</td>\n",
       "      <td>After reading the expirement, I realized that the additional information you need to replicate the expireiment is one, the amant of vinegar you poured in each container, two, label the containers before you start yar expirement and three, write a conclusion to make sure yar results are accurate.</td>\n",
       "      <td>1</td>\n",
       "    </tr>\n",
       "    <tr>\n",
       "      <th>2</th>\n",
       "      <td>3</td>\n",
       "      <td>1</td>\n",
       "      <td>Science</td>\n",
       "      <td>10</td>\n",
       "      <td>What you need is more trials, a control set up, and an exact amount of vinegar to pour in each cup/beaker. You could also take and check the mass every 30 min or 1 hour.</td>\n",
       "      <td>1</td>\n",
       "    </tr>\n",
       "    <tr>\n",
       "      <th>3</th>\n",
       "      <td>4</td>\n",
       "      <td>1</td>\n",
       "      <td>Science</td>\n",
       "      <td>10</td>\n",
       "      <td>The student should list what rock is better and what rock is the worse in the procedure.</td>\n",
       "      <td>0</td>\n",
       "    </tr>\n",
       "    <tr>\n",
       "      <th>4</th>\n",
       "      <td>5</td>\n",
       "      <td>1</td>\n",
       "      <td>Science</td>\n",
       "      <td>10</td>\n",
       "      <td>For the students to be able to make a replicate, they would need to tell use how much vinegar is used and what tipe of materials is needed for the expirement.</td>\n",
       "      <td>2</td>\n",
       "    </tr>\n",
       "  </tbody>\n",
       "</table>\n",
       "</div>"
      ],
      "text/plain": [
       "   Id  EssaySet  subject  studentGrade  \\\n",
       "0  1   1         Science  10             \n",
       "1  2   1         Science  10             \n",
       "2  3   1         Science  10             \n",
       "3  4   1         Science  10             \n",
       "4  5   1         Science  10             \n",
       "\n",
       "                                                                                                                                                                                                                                                                                                                    EssayText  \\\n",
       "0  Some additional information that we would need to replicate the experiment is how much vinegar should be placed in each identical container, how or what tool to use to measure the mass of the four different samples and how much distilled water to use to rinse the four samples after taking them out of the vinegar.   \n",
       "1  After reading the expirement, I realized that the additional information you need to replicate the expireiment is one, the amant of vinegar you poured in each container, two, label the containers before you start yar expirement and three, write a conclusion to make sure yar results are accurate.                     \n",
       "2  What you need is more trials, a control set up, and an exact amount of vinegar to pour in each cup/beaker. You could also take and check the mass every 30 min or 1 hour.                                                                                                                                                    \n",
       "3  The student should list what rock is better and what rock is the worse in the procedure.                                                                                                                                                                                                                                     \n",
       "4  For the students to be able to make a replicate, they would need to tell use how much vinegar is used and what tipe of materials is needed for the expirement.                                                                                                                                                               \n",
       "\n",
       "   Score1  \n",
       "0  1       \n",
       "1  1       \n",
       "2  1       \n",
       "3  0       \n",
       "4  2       "
      ]
     },
     "execution_count": 3,
     "metadata": {},
     "output_type": "execute_result"
    }
   ],
   "source": [
    "myDir = Path.cwd().parents[0]\n",
    "dataFolder = myDir / 'data/asap-sas'\n",
    "ratingsFolder = myDir / 'data/ratings'\n",
    "\n",
    "print(dataFolder)\n",
    "\n",
    "gradeMap = {1: 10,\n",
    "                2: 10,\n",
    "                3: 10,\n",
    "                4:10,\n",
    "                5: 10,\n",
    "                6: 10,\n",
    "                7:10,\n",
    "                8:10,\n",
    "                9:10,\n",
    "                10:8}\n",
    "\n",
    "subjectMap = {1: 'Science',\n",
    "            2: 'Science',\n",
    "            3: 'English Language Arts',\n",
    "            4: 'English Language Arts',\n",
    "            5: 'Biology',\n",
    "            6: 'Biology',\n",
    "            7:'English',\n",
    "            8:'English',\n",
    "            9:'English',\n",
    "            10:'Science'}\n",
    "\n",
    "df = pd.read_csv(dataFolder/'train.tsv', sep='\\t', header=0)  #read data into dataframe\n",
    "df.drop('Score2', inplace=True, axis=1) #Score 2 is for inter-rate reliability only\n",
    "\n",
    "df['subject'] = df['EssaySet'].map(subjectMap)\n",
    "df['studentGrade'] = df['EssaySet'].map(gradeMap)\n",
    "\n",
    "df = df[['Id','EssaySet','subject','studentGrade','EssayText','Score1']] #rearrange columns\n",
    "df.head()"
   ]
  },
  {
   "cell_type": "code",
   "execution_count": 4,
   "metadata": {},
   "outputs": [
    {
     "data": {
      "text/plain": [
       "(1672, 6)"
      ]
     },
     "execution_count": 4,
     "metadata": {},
     "output_type": "execute_result"
    }
   ],
   "source": [
    "# Take only essay set 1\n",
    "set_1 = df[(df['EssaySet'] == 1)].copy()\n",
    "set_1.shape"
   ]
  },
  {
   "cell_type": "code",
   "execution_count": 5,
   "metadata": {},
   "outputs": [],
   "source": [
    "del df"
   ]
  },
  {
   "cell_type": "code",
   "execution_count": 6,
   "metadata": {},
   "outputs": [
    {
     "data": {
      "text/html": [
       "<div>\n",
       "<style scoped>\n",
       "    .dataframe tbody tr th:only-of-type {\n",
       "        vertical-align: middle;\n",
       "    }\n",
       "\n",
       "    .dataframe tbody tr th {\n",
       "        vertical-align: top;\n",
       "    }\n",
       "\n",
       "    .dataframe thead th {\n",
       "        text-align: right;\n",
       "    }\n",
       "</style>\n",
       "<table border=\"1\" class=\"dataframe\">\n",
       "  <thead>\n",
       "    <tr style=\"text-align: right;\">\n",
       "      <th></th>\n",
       "      <th>EssayText</th>\n",
       "    </tr>\n",
       "  </thead>\n",
       "  <tbody>\n",
       "    <tr>\n",
       "      <th>1145</th>\n",
       "      <td>You would need to know how much vinegar was put in to each sample, find the size and shape of the container so the same amount of vinegar was actually covering the sample. You would need to know the shape or volume of sample because the surface are has to be the same so the same amount is affected by the vinegar.</td>\n",
       "    </tr>\n",
       "    <tr>\n",
       "      <th>842</th>\n",
       "      <td>In order to replicate experiment I would need to know exactly how much vinegar to pour in each container, how much of each sample to put in the container, and</td>\n",
       "    </tr>\n",
       "    <tr>\n",
       "      <th>1554</th>\n",
       "      <td>The additional information you would need in order to replicate the experiment form a hypothesis. Draw a conclusion. Say what you are experimenting.</td>\n",
       "    </tr>\n",
       "    <tr>\n",
       "      <th>1526</th>\n",
       "      <td>To replicate this experiment you would need to state you problem. What is the person for this lab also you need to indicate your independent and dependent variables.</td>\n",
       "    </tr>\n",
       "    <tr>\n",
       "      <th>497</th>\n",
       "      <td>1) I would need to know how much vinegar is being put into the sample. ^p 2) What are they trying to find out through pass is to amount. ^p 3) Was there a control group in this experiment.</td>\n",
       "    </tr>\n",
       "  </tbody>\n",
       "</table>\n",
       "</div>"
      ],
      "text/plain": [
       "                                                                                                                                                                                                                                                                                                                       EssayText\n",
       "1145  You would need to know how much vinegar was put in to each sample, find the size and shape of the container so the same amount of vinegar was actually covering the sample. You would need to know the shape or volume of sample because the surface are has to be the same so the same amount is affected by the vinegar.\n",
       "842   In order to replicate experiment I would need to know exactly how much vinegar to pour in each container, how much of each sample to put in the container, and                                                                                                                                                            \n",
       "1554  The additional information you would need in order to replicate the experiment form a hypothesis. Draw a conclusion. Say what you are experimenting.                                                                                                                                                                      \n",
       "1526  To replicate this experiment you would need to state you problem. What is the person for this lab also you need to indicate your independent and dependent variables.                                                                                                                                                     \n",
       "497   1) I would need to know how much vinegar is being put into the sample. ^p 2) What are they trying to find out through pass is to amount. ^p 3) Was there a control group in this experiment.                                                                                                                              "
      ]
     },
     "execution_count": 6,
     "metadata": {},
     "output_type": "execute_result"
    }
   ],
   "source": [
    "X = set_1[['EssayText','Score1']]\n",
    "y = X.pop('Score1')\n",
    "\n",
    "\n",
    "train, test, y_train_tmp, y_test_tmp = train_test_split(X, y, test_size=0.30, random_state=42)\n",
    "\n",
    "#Adding the is_copy to False otherwise we get SettingWithCopyWarning\n",
    "train = train.copy()\n",
    "test = test.copy()\n",
    "\n",
    "train.head()"
   ]
  },
  {
   "cell_type": "code",
   "execution_count": 41,
   "metadata": {},
   "outputs": [],
   "source": [
    "from yellowbrick.text import TSNEVisualizer"
   ]
  },
  {
   "cell_type": "code",
   "execution_count": 80,
   "metadata": {},
   "outputs": [
    {
     "data": {
      "image/png": "[encoded data removed]",
      "text/plain": [
       "<Figure size 1080x864 with 1 Axes>"
      ]
     },
     "metadata": {},
     "output_type": "display_data"
    }
   ],
   "source": [
    "count_vectorizer = CountVectorizer(tokenizer=spacy_tokenizer,  ngram_range=(1,3), max_features=200000)\n",
    "text_ngrams = count_vectorizer.fit_transform(train['EssayText'])\n",
    "\n",
    "plt.figure(figsize=(12,8))\n",
    "\n",
    "# Create the visualizer and draw the vectors\n",
    "tsne = TSNEVisualizer(decompose='svd',decompose_by=200, colormap='viridis')\n",
    "tsne.fit(text_ngrams, y_train_tmp.squeeze())\n",
    "tsne.poof()"
   ]
  },
  {
   "cell_type": "code",
   "execution_count": 86,
   "metadata": {},
   "outputs": [
    {
     "data": {
      "image/png": "[encoded data removed]",
      "text/plain": [
       "<Figure size 576x396 with 2 Axes>"
      ]
     },
     "metadata": {},
     "output_type": "display_data"
    }
   ],
   "source": [
    "from yellowbrick.features.manifold import Manifold\n",
    "\n",
    "visualizer = Manifold(manifold='mds', target='continuous', n_neighbors=15)\n",
    "visualizer.fit(merged_2, y_train_tmp.squeeze())\n",
    "visualizer.poof()"
   ]
  },
  {
   "cell_type": "code",
   "execution_count": null,
   "metadata": {},
   "outputs": [],
   "source": []
  },
  {
   "cell_type": "code",
   "execution_count": 7,
   "metadata": {},
   "outputs": [],
   "source": [
    "# new_df = train[['EssayText']][0:5]\n",
    "# new_df = new_df.copy() \n",
    "\n",
    "# new_df.head()"
   ]
  },
  {
   "cell_type": "markdown",
   "metadata": {},
   "source": [
    "## Feature Extraction"
   ]
  },
  {
   "cell_type": "code",
   "execution_count": 8,
   "metadata": {},
   "outputs": [],
   "source": [
    "def get_custom_features(col):\n",
    "\n",
    "    content_words = ['NOUN', 'PROPN', 'VERB', 'ADJ', 'ADV']\n",
    "    tokens = []\n",
    "    word_count = []\n",
    "    avg_word_len = []\n",
    "\n",
    "\n",
    "    aoa_ratings_df = pd.read_csv(ratingsFolder/'AoA_Ratings.csv')\n",
    "    aoa_ratings = dict(zip(aoa_ratings_df.Word, aoa_ratings_df.AoA))\n",
    "    maturity_tokens = []\n",
    "    maturity = []\n",
    "\n",
    "    conc_ratings_df = pd.read_csv(ratingsFolder/'Concreteness_Ratings.csv')\n",
    "    conc_ratings = dict(zip(conc_ratings_df.Word, conc_ratings_df.Concreteness))\n",
    "    concreteness = []\n",
    "    conc_tokens = []    \n",
    "\n",
    "\n",
    "    for doc in nlp.pipe(col, batch_size=50, n_threads=4):\n",
    "\n",
    "        if doc.is_parsed:\n",
    "\n",
    "\n",
    "\n",
    "            #Add placeholders for CONTENT words, else parse as usual\n",
    "            tokens.append(['__{}__'.format(w.pos_) if w.pos_ in content_words else w.lemma_.lower() for w in doc])\n",
    "\n",
    "            #Count words which are not punctuation\n",
    "            tmp_word_count = []\n",
    "            word_count.append(len([w for w in doc if not w.is_punct]))\n",
    "            tmp_word_count.append([len(w.shape_) for w in doc if not w.is_punct])\n",
    "\n",
    "            for i in tmp_word_count:\n",
    "                avg_word_len.append(sum(i)/len(i))\n",
    "\n",
    "\n",
    "            #-------------------Maturity\n",
    "            mat_tmp = []\n",
    "            maturity_tokens.append([w.text.lower() if w.lemma_ == '-PRON-' else w.lemma_.lower() for w in doc])\n",
    "\n",
    "            #maturity.append([value.get('name') for value in d.values()])\n",
    "            mat_tmp.append([aoa_ratings[t] for a in maturity_tokens for t in a if t in aoa_ratings])\n",
    "\n",
    "             #Now get avg maturity per doc\n",
    "            for j in mat_tmp:\n",
    "                maturity.append(sum(j)/len(j))\n",
    "\n",
    "            #----------Concreteness\n",
    "            conc_tmp = []\n",
    "            conc_tokens.append([w.text.lower() for w in doc])\n",
    "            conc_tmp.append([conc_ratings[t] for a in conc_tokens for t in a if t in conc_ratings])\n",
    "\n",
    "            #Now get avg concreteness per doc\n",
    "            for k in conc_tmp:\n",
    "                concreteness.append(sum(k)/len(k))\n",
    "\n",
    "        else:\n",
    "            # We want to make sure that the lists of parsed results have the\n",
    "            # same number of entries of the original Dataframe, so add some blanks in case the parse fails\n",
    "\n",
    "            tokens.append(None)\n",
    "            word_count.append(None)\n",
    "            avg_word_len.append(None)\n",
    "            maturity.append(None)\n",
    "            concreteness.append(None)\n",
    "\n",
    "    return word_count, avg_word_len, maturity, concreteness  \n",
    "\n",
    "def spacy_tokenizer(doc):\n",
    "    content_words = ['NOUN', 'PROPN', 'VERB', 'ADJ', 'ADV']\n",
    "    \n",
    "    doc = nlp(doc)\n",
    "    \n",
    "    #remove ^p (bullet points)\n",
    "    \n",
    "    return ['__{}__'.format(w.pos_) if w.pos_ in content_words else w.lemma_.lower() for w in doc]  \n",
    "    \n",
    "def spacy_pos_tagger(doc):\n",
    "    content_words = ['NOUN', 'PROPN', 'VERB', 'ADJ', 'ADV']\n",
    "    \n",
    "    doc = nlp(doc)\n",
    "    \n",
    "    #remove ^p (bullet points)\n",
    "    \n",
    "    return ['__{}__'.format(w.pos_) if w.pos_ in content_words else w.pos_ for w in doc]  \n",
    "    "
   ]
  },
  {
   "cell_type": "markdown",
   "metadata": {},
   "source": [
    "### Get Features\n"
   ]
  },
  {
   "cell_type": "code",
   "execution_count": 9,
   "metadata": {},
   "outputs": [
    {
     "name": "stdout",
     "output_type": "stream",
     "text": [
      "Wall time: 36.9 s\n"
     ]
    }
   ],
   "source": [
    "#Get handcrafted features\n",
    "word_count, avg_word_len, maturity, concreteness = get_custom_features(train['EssayText'])\n",
    "\n",
    "train['total_words'] = word_count\n",
    "train['avg_word_length'] = avg_word_len\n",
    "train['maturity'] = maturity\n",
    "train['concreteness'] = concreteness\n",
    "\n",
    "scaled_features = StandardScaler().fit_transform(\n",
    "    train[['total_words','avg_word_length','maturity','concreteness']].astype(float))\n",
    "\n",
    "custom_features_df = pd.DataFrame(scaled_features, index=train.index, \n",
    "                               columns=['total_words','avg_word_length','maturity','concreteness'])\n",
    "\n",
    "custom_features_df.head()\n"
   ]
  },
  {
   "cell_type": "code",
   "execution_count": 10,
   "metadata": {},
   "outputs": [
    {
     "name": "stdout",
     "output_type": "stream",
     "text": [
      "(1170, 2000)\n",
      "Wall time: 28.6 s\n"
     ]
    }
   ],
   "source": [
    "#Get text BoW n-grams\n",
    "\n",
    "#Initialise vectoriser\n",
    "count_vectorizer = CountVectorizer(tokenizer=spacy_tokenizer,  ngram_range=(2,3), max_features=2000)\n",
    "text_ngrams = count_vectorizer.fit_transform(train['EssayText'])\n",
    "\n",
    "print(text_ngrams.shape)\n",
    "\n",
    "#print(count_vect.vocabulary_)\n",
    "\n",
    "scaled_text_ngrams = StandardScaler(with_mean=False).fit_transform(text_ngrams.astype(float))\n",
    "text_ngrams_df = pd.DataFrame(scaled_text_ngrams.toarray(), columns=count_vectorizer.get_feature_names(), index=train.index)\n",
    "text_ngrams_df.head()\n",
    "#DataFrame.values"
   ]
  },
  {
   "cell_type": "code",
   "execution_count": 28,
   "metadata": {},
   "outputs": [],
   "source": [
    "from yellowbrick.text import FreqDistVisualizer"
   ]
  },
  {
   "cell_type": "code",
   "execution_count": 33,
   "metadata": {},
   "outputs": [
    {
     "data": {
      "image/png": "[encoded data removed]",
      "text/plain": [
       "<Figure size 864x720 with 1 Axes>"
      ]
     },
     "metadata": {},
     "output_type": "display_data"
    }
   ],
   "source": [
    "plt.figure(figsize=(12,10))\n",
    "visualizer = FreqDistVisualizer(features=count_vectorizer.get_feature_names(), orient='v',n=30 )\n",
    "visualizer.fit(text_ngrams)\n",
    "visualizer.poof()"
   ]
  },
  {
   "cell_type": "code",
   "execution_count": 12,
   "metadata": {},
   "outputs": [
    {
     "name": "stdout",
     "output_type": "stream",
     "text": [
      "(1170, 16)\n",
      "Wall time: 33 s\n"
     ]
    }
   ],
   "source": [
    "#Get POS n-grams\n",
    "\n",
    "pos_vectorizer = CountVectorizer(ngram_range=(1,1), max_features=200, tokenizer=spacy_pos_tagger)\n",
    "pos_ngrams = pos_vectorizer.fit_transform(train['EssayText'])\n",
    "print(pos_ngrams.shape)\n",
    "\n",
    "\n",
    "scaled_pos_ngrams = StandardScaler(with_mean=False).fit_transform(pos_ngrams.astype(float))\n",
    "\n",
    "pos_ngrams_df = pd.DataFrame(scaled_pos_ngrams.toarray(), \n",
    "                             columns=pos_vectorizer.get_feature_names(), \n",
    "                             index=train.index)\n",
    "\n",
    "pos_ngrams_df.head()\n",
    "\n"
   ]
  },
  {
   "cell_type": "code",
   "execution_count": 38,
   "metadata": {},
   "outputs": [
    {
     "data": {
      "text/plain": [
       "<1170x16 sparse matrix of type '<class 'numpy.int64'>'\n",
       "\twith 11415 stored elements in Compressed Sparse Row format>"
      ]
     },
     "execution_count": 38,
     "metadata": {},
     "output_type": "execute_result"
    }
   ],
   "source": [
    "pos_ngrams"
   ]
  },
  {
   "cell_type": "code",
   "execution_count": 88,
   "metadata": {},
   "outputs": [
    {
     "data": {
      "image/png": "[encoded data removed]",
      "text/plain": [
       "<Figure size 864x720 with 1 Axes>"
      ]
     },
     "metadata": {},
     "output_type": "display_data"
    }
   ],
   "source": [
    "plt.figure(figsize=(12,10))\n",
    "visualizer = FreqDistVisualizer(features=pos_vectorizer.get_feature_names(), orient='v', n=16)\n",
    "visualizer.fit(pos_ngrams)\n",
    "visualizer.poof()"
   ]
  },
  {
   "cell_type": "code",
   "execution_count": 19,
   "metadata": {},
   "outputs": [
    {
     "name": "stdout",
     "output_type": "stream",
     "text": [
      "(1170, 2020)\n"
     ]
    },
    {
     "data": {
      "text/html": [
       "<div>\n",
       "<style scoped>\n",
       "    .dataframe tbody tr th:only-of-type {\n",
       "        vertical-align: middle;\n",
       "    }\n",
       "\n",
       "    .dataframe tbody tr th {\n",
       "        vertical-align: top;\n",
       "    }\n",
       "\n",
       "    .dataframe thead th {\n",
       "        text-align: right;\n",
       "    }\n",
       "</style>\n",
       "<table border=\"1\" class=\"dataframe\">\n",
       "  <thead>\n",
       "    <tr style=\"text-align: right;\">\n",
       "      <th></th>\n",
       "      <th>total_words</th>\n",
       "      <th>avg_word_length</th>\n",
       "      <th>maturity</th>\n",
       "      <th>concreteness</th>\n",
       "      <th>ADP</th>\n",
       "      <th>CCONJ</th>\n",
       "      <th>DET</th>\n",
       "      <th>INTJ</th>\n",
       "      <th>NUM</th>\n",
       "      <th>PART</th>\n",
       "      <th>PRON</th>\n",
       "      <th>PUNCT</th>\n",
       "      <th>SPACE</th>\n",
       "      <th>SYM</th>\n",
       "      <th>X</th>\n",
       "      <th>__ADJ__</th>\n",
       "      <th>__ADV__</th>\n",
       "      <th>__NOUN__</th>\n",
       "      <th>__PROPN__</th>\n",
       "      <th>__VERB__</th>\n",
       "      <th>-pron-</th>\n",
       "      <th>-pron- __VERB__</th>\n",
       "      <th>__ADJ__</th>\n",
       "      <th>__ADJ__ __NOUN__</th>\n",
       "      <th>__ADV__</th>\n",
       "      <th>...</th>\n",
       "      <th>with __ADJ__ __NOUN__</th>\n",
       "      <th>with __ADV__</th>\n",
       "      <th>with __NOUN__</th>\n",
       "      <th>with __NOUN__ .</th>\n",
       "      <th>with __VERB__</th>\n",
       "      <th>with __VERB__ __NOUN__</th>\n",
       "      <th>with a</th>\n",
       "      <th>with a __NOUN__</th>\n",
       "      <th>with and</th>\n",
       "      <th>with each</th>\n",
       "      <th>with each __NOUN__</th>\n",
       "      <th>with in</th>\n",
       "      <th>with the</th>\n",
       "      <th>with the __ADJ__</th>\n",
       "      <th>with the __NOUN__</th>\n",
       "      <th>with the __VERB__</th>\n",
       "      <th>with this</th>\n",
       "      <th>with this __NOUN__</th>\n",
       "      <th>without __VERB__</th>\n",
       "      <th>without a</th>\n",
       "      <th>without a __NOUN__</th>\n",
       "      <th>without the</th>\n",
       "      <th>without these</th>\n",
       "      <th>without this</th>\n",
       "      <th>without this __NOUN__</th>\n",
       "    </tr>\n",
       "  </thead>\n",
       "  <tbody>\n",
       "    <tr>\n",
       "      <th>1145</th>\n",
       "      <td>0.665272</td>\n",
       "      <td>-0.447669</td>\n",
       "      <td>-9.091595</td>\n",
       "      <td>-9.168278</td>\n",
       "      <td>2.310997</td>\n",
       "      <td>1.94298</td>\n",
       "      <td>3.056974</td>\n",
       "      <td>0.0</td>\n",
       "      <td>0.000000</td>\n",
       "      <td>1.861284</td>\n",
       "      <td>0.932595</td>\n",
       "      <td>0.973485</td>\n",
       "      <td>0.0</td>\n",
       "      <td>0.0</td>\n",
       "      <td>0.0</td>\n",
       "      <td>1.737727</td>\n",
       "      <td>1.286275</td>\n",
       "      <td>2.735993</td>\n",
       "      <td>0.0</td>\n",
       "      <td>2.560626</td>\n",
       "      <td>0.0</td>\n",
       "      <td>0.0</td>\n",
       "      <td>0.0</td>\n",
       "      <td>0.0</td>\n",
       "      <td>0.0</td>\n",
       "      <td>...</td>\n",
       "      <td>0.0</td>\n",
       "      <td>0.0</td>\n",
       "      <td>0.0</td>\n",
       "      <td>0.0</td>\n",
       "      <td>0.0</td>\n",
       "      <td>0.0</td>\n",
       "      <td>0.0</td>\n",
       "      <td>0.0</td>\n",
       "      <td>0.0</td>\n",
       "      <td>0.0</td>\n",
       "      <td>0.0</td>\n",
       "      <td>0.0</td>\n",
       "      <td>0.0</td>\n",
       "      <td>0.0</td>\n",
       "      <td>0.0</td>\n",
       "      <td>0.0</td>\n",
       "      <td>0.0</td>\n",
       "      <td>0.0</td>\n",
       "      <td>0.0</td>\n",
       "      <td>0.0</td>\n",
       "      <td>0.0</td>\n",
       "      <td>0.0</td>\n",
       "      <td>0.0</td>\n",
       "      <td>0.0</td>\n",
       "      <td>0.0</td>\n",
       "    </tr>\n",
       "    <tr>\n",
       "      <th>842</th>\n",
       "      <td>-0.781089</td>\n",
       "      <td>-0.797001</td>\n",
       "      <td>-6.467719</td>\n",
       "      <td>-1.379700</td>\n",
       "      <td>1.320570</td>\n",
       "      <td>0.97149</td>\n",
       "      <td>0.917092</td>\n",
       "      <td>0.0</td>\n",
       "      <td>0.000000</td>\n",
       "      <td>1.861284</td>\n",
       "      <td>0.466298</td>\n",
       "      <td>0.648990</td>\n",
       "      <td>0.0</td>\n",
       "      <td>0.0</td>\n",
       "      <td>0.0</td>\n",
       "      <td>0.868864</td>\n",
       "      <td>1.286275</td>\n",
       "      <td>1.172568</td>\n",
       "      <td>0.0</td>\n",
       "      <td>0.960235</td>\n",
       "      <td>0.0</td>\n",
       "      <td>0.0</td>\n",
       "      <td>0.0</td>\n",
       "      <td>0.0</td>\n",
       "      <td>0.0</td>\n",
       "      <td>...</td>\n",
       "      <td>0.0</td>\n",
       "      <td>0.0</td>\n",
       "      <td>0.0</td>\n",
       "      <td>0.0</td>\n",
       "      <td>0.0</td>\n",
       "      <td>0.0</td>\n",
       "      <td>0.0</td>\n",
       "      <td>0.0</td>\n",
       "      <td>0.0</td>\n",
       "      <td>0.0</td>\n",
       "      <td>0.0</td>\n",
       "      <td>0.0</td>\n",
       "      <td>0.0</td>\n",
       "      <td>0.0</td>\n",
       "      <td>0.0</td>\n",
       "      <td>0.0</td>\n",
       "      <td>0.0</td>\n",
       "      <td>0.0</td>\n",
       "      <td>0.0</td>\n",
       "      <td>0.0</td>\n",
       "      <td>0.0</td>\n",
       "      <td>0.0</td>\n",
       "      <td>0.0</td>\n",
       "      <td>0.0</td>\n",
       "      <td>0.0</td>\n",
       "    </tr>\n",
       "    <tr>\n",
       "      <th>1554</th>\n",
       "      <td>-1.097481</td>\n",
       "      <td>-0.169216</td>\n",
       "      <td>1.888996</td>\n",
       "      <td>1.985227</td>\n",
       "      <td>0.330142</td>\n",
       "      <td>0.00000</td>\n",
       "      <td>1.222790</td>\n",
       "      <td>0.0</td>\n",
       "      <td>0.000000</td>\n",
       "      <td>0.465321</td>\n",
       "      <td>0.932595</td>\n",
       "      <td>0.973485</td>\n",
       "      <td>0.0</td>\n",
       "      <td>0.0</td>\n",
       "      <td>0.0</td>\n",
       "      <td>0.434432</td>\n",
       "      <td>0.000000</td>\n",
       "      <td>1.172568</td>\n",
       "      <td>0.0</td>\n",
       "      <td>1.280313</td>\n",
       "      <td>0.0</td>\n",
       "      <td>0.0</td>\n",
       "      <td>0.0</td>\n",
       "      <td>0.0</td>\n",
       "      <td>0.0</td>\n",
       "      <td>...</td>\n",
       "      <td>0.0</td>\n",
       "      <td>0.0</td>\n",
       "      <td>0.0</td>\n",
       "      <td>0.0</td>\n",
       "      <td>0.0</td>\n",
       "      <td>0.0</td>\n",
       "      <td>0.0</td>\n",
       "      <td>0.0</td>\n",
       "      <td>0.0</td>\n",
       "      <td>0.0</td>\n",
       "      <td>0.0</td>\n",
       "      <td>0.0</td>\n",
       "      <td>0.0</td>\n",
       "      <td>0.0</td>\n",
       "      <td>0.0</td>\n",
       "      <td>0.0</td>\n",
       "      <td>0.0</td>\n",
       "      <td>0.0</td>\n",
       "      <td>0.0</td>\n",
       "      <td>0.0</td>\n",
       "      <td>0.0</td>\n",
       "      <td>0.0</td>\n",
       "      <td>0.0</td>\n",
       "      <td>0.0</td>\n",
       "      <td>0.0</td>\n",
       "    </tr>\n",
       "    <tr>\n",
       "      <th>1526</th>\n",
       "      <td>-0.871487</td>\n",
       "      <td>0.793014</td>\n",
       "      <td>8.284416</td>\n",
       "      <td>5.641698</td>\n",
       "      <td>0.330142</td>\n",
       "      <td>0.97149</td>\n",
       "      <td>0.917092</td>\n",
       "      <td>0.0</td>\n",
       "      <td>0.000000</td>\n",
       "      <td>1.395963</td>\n",
       "      <td>1.398893</td>\n",
       "      <td>0.648990</td>\n",
       "      <td>0.0</td>\n",
       "      <td>0.0</td>\n",
       "      <td>0.0</td>\n",
       "      <td>1.303295</td>\n",
       "      <td>0.428758</td>\n",
       "      <td>1.172568</td>\n",
       "      <td>0.0</td>\n",
       "      <td>1.120274</td>\n",
       "      <td>0.0</td>\n",
       "      <td>0.0</td>\n",
       "      <td>0.0</td>\n",
       "      <td>0.0</td>\n",
       "      <td>0.0</td>\n",
       "      <td>...</td>\n",
       "      <td>0.0</td>\n",
       "      <td>0.0</td>\n",
       "      <td>0.0</td>\n",
       "      <td>0.0</td>\n",
       "      <td>0.0</td>\n",
       "      <td>0.0</td>\n",
       "      <td>0.0</td>\n",
       "      <td>0.0</td>\n",
       "      <td>0.0</td>\n",
       "      <td>0.0</td>\n",
       "      <td>0.0</td>\n",
       "      <td>0.0</td>\n",
       "      <td>0.0</td>\n",
       "      <td>0.0</td>\n",
       "      <td>0.0</td>\n",
       "      <td>0.0</td>\n",
       "      <td>0.0</td>\n",
       "      <td>0.0</td>\n",
       "      <td>0.0</td>\n",
       "      <td>0.0</td>\n",
       "      <td>0.0</td>\n",
       "      <td>0.0</td>\n",
       "      <td>0.0</td>\n",
       "      <td>0.0</td>\n",
       "      <td>0.0</td>\n",
       "    </tr>\n",
       "    <tr>\n",
       "      <th>497</th>\n",
       "      <td>-0.374300</td>\n",
       "      <td>-1.691729</td>\n",
       "      <td>4.238500</td>\n",
       "      <td>2.039050</td>\n",
       "      <td>0.990427</td>\n",
       "      <td>0.00000</td>\n",
       "      <td>0.917092</td>\n",
       "      <td>0.0</td>\n",
       "      <td>2.017968</td>\n",
       "      <td>1.861284</td>\n",
       "      <td>0.932595</td>\n",
       "      <td>2.595960</td>\n",
       "      <td>0.0</td>\n",
       "      <td>0.0</td>\n",
       "      <td>0.0</td>\n",
       "      <td>0.434432</td>\n",
       "      <td>0.857517</td>\n",
       "      <td>1.367996</td>\n",
       "      <td>0.0</td>\n",
       "      <td>1.920470</td>\n",
       "      <td>0.0</td>\n",
       "      <td>0.0</td>\n",
       "      <td>0.0</td>\n",
       "      <td>0.0</td>\n",
       "      <td>0.0</td>\n",
       "      <td>...</td>\n",
       "      <td>0.0</td>\n",
       "      <td>0.0</td>\n",
       "      <td>0.0</td>\n",
       "      <td>0.0</td>\n",
       "      <td>0.0</td>\n",
       "      <td>0.0</td>\n",
       "      <td>0.0</td>\n",
       "      <td>0.0</td>\n",
       "      <td>0.0</td>\n",
       "      <td>0.0</td>\n",
       "      <td>0.0</td>\n",
       "      <td>0.0</td>\n",
       "      <td>0.0</td>\n",
       "      <td>0.0</td>\n",
       "      <td>0.0</td>\n",
       "      <td>0.0</td>\n",
       "      <td>0.0</td>\n",
       "      <td>0.0</td>\n",
       "      <td>0.0</td>\n",
       "      <td>0.0</td>\n",
       "      <td>0.0</td>\n",
       "      <td>0.0</td>\n",
       "      <td>0.0</td>\n",
       "      <td>0.0</td>\n",
       "      <td>0.0</td>\n",
       "    </tr>\n",
       "  </tbody>\n",
       "</table>\n",
       "<p>5 rows × 2020 columns</p>\n",
       "</div>"
      ],
      "text/plain": [
       "      total_words  avg_word_length  maturity  concreteness       ADP    CCONJ  \\\n",
       "1145  0.665272    -0.447669        -9.091595 -9.168278      2.310997  1.94298   \n",
       "842  -0.781089    -0.797001        -6.467719 -1.379700      1.320570  0.97149   \n",
       "1554 -1.097481    -0.169216         1.888996  1.985227      0.330142  0.00000   \n",
       "1526 -0.871487     0.793014         8.284416  5.641698      0.330142  0.97149   \n",
       "497  -0.374300    -1.691729         4.238500  2.039050      0.990427  0.00000   \n",
       "\n",
       "           DET  INTJ       NUM      PART      PRON     PUNCT  SPACE  SYM    X  \\\n",
       "1145  3.056974  0.0   0.000000  1.861284  0.932595  0.973485  0.0    0.0  0.0   \n",
       "842   0.917092  0.0   0.000000  1.861284  0.466298  0.648990  0.0    0.0  0.0   \n",
       "1554  1.222790  0.0   0.000000  0.465321  0.932595  0.973485  0.0    0.0  0.0   \n",
       "1526  0.917092  0.0   0.000000  1.395963  1.398893  0.648990  0.0    0.0  0.0   \n",
       "497   0.917092  0.0   2.017968  1.861284  0.932595  2.595960  0.0    0.0  0.0   \n",
       "\n",
       "       __ADJ__   __ADV__  __NOUN__  __PROPN__  __VERB__    -pron-  \\\n",
       "1145  1.737727  1.286275  2.735993  0.0        2.560626  0.0        \n",
       "842   0.868864  1.286275  1.172568  0.0        0.960235  0.0        \n",
       "1554  0.434432  0.000000  1.172568  0.0        1.280313  0.0        \n",
       "1526  1.303295  0.428758  1.172568  0.0        1.120274  0.0        \n",
       "497   0.434432  0.857517  1.367996  0.0        1.920470  0.0        \n",
       "\n",
       "        -pron- __VERB__    __ADJ__    __ADJ__ __NOUN__    __ADV__  \\\n",
       "1145  0.0                0.0        0.0                 0.0         \n",
       "842   0.0                0.0        0.0                 0.0         \n",
       "1554  0.0                0.0        0.0                 0.0         \n",
       "1526  0.0                0.0        0.0                 0.0         \n",
       "497   0.0                0.0        0.0                 0.0         \n",
       "\n",
       "              ...            with __ADJ__ __NOUN__  with __ADV__  \\\n",
       "1145          ...            0.0                    0.0            \n",
       "842           ...            0.0                    0.0            \n",
       "1554          ...            0.0                    0.0            \n",
       "1526          ...            0.0                    0.0            \n",
       "497           ...            0.0                    0.0            \n",
       "\n",
       "      with __NOUN__  with __NOUN__ .  with __VERB__  with __VERB__ __NOUN__  \\\n",
       "1145  0.0            0.0              0.0            0.0                      \n",
       "842   0.0            0.0              0.0            0.0                      \n",
       "1554  0.0            0.0              0.0            0.0                      \n",
       "1526  0.0            0.0              0.0            0.0                      \n",
       "497   0.0            0.0              0.0            0.0                      \n",
       "\n",
       "      with a  with a __NOUN__  with and  with each  with each __NOUN__  \\\n",
       "1145  0.0     0.0              0.0       0.0        0.0                  \n",
       "842   0.0     0.0              0.0       0.0        0.0                  \n",
       "1554  0.0     0.0              0.0       0.0        0.0                  \n",
       "1526  0.0     0.0              0.0       0.0        0.0                  \n",
       "497   0.0     0.0              0.0       0.0        0.0                  \n",
       "\n",
       "      with in  with the  with the __ADJ__  with the __NOUN__  \\\n",
       "1145  0.0      0.0       0.0               0.0                 \n",
       "842   0.0      0.0       0.0               0.0                 \n",
       "1554  0.0      0.0       0.0               0.0                 \n",
       "1526  0.0      0.0       0.0               0.0                 \n",
       "497   0.0      0.0       0.0               0.0                 \n",
       "\n",
       "      with the __VERB__  with this  with this __NOUN__  without __VERB__  \\\n",
       "1145  0.0                0.0        0.0                 0.0                \n",
       "842   0.0                0.0        0.0                 0.0                \n",
       "1554  0.0                0.0        0.0                 0.0                \n",
       "1526  0.0                0.0        0.0                 0.0                \n",
       "497   0.0                0.0        0.0                 0.0                \n",
       "\n",
       "      without a  without a __NOUN__  without the  without these  without this  \\\n",
       "1145  0.0        0.0                 0.0          0.0            0.0            \n",
       "842   0.0        0.0                 0.0          0.0            0.0            \n",
       "1554  0.0        0.0                 0.0          0.0            0.0            \n",
       "1526  0.0        0.0                 0.0          0.0            0.0            \n",
       "497   0.0        0.0                 0.0          0.0            0.0            \n",
       "\n",
       "      without this __NOUN__  \n",
       "1145  0.0                    \n",
       "842   0.0                    \n",
       "1554  0.0                    \n",
       "1526  0.0                    \n",
       "497   0.0                    \n",
       "\n",
       "[5 rows x 2020 columns]"
      ]
     },
     "execution_count": 19,
     "metadata": {},
     "output_type": "execute_result"
    }
   ],
   "source": [
    "# Concatenate all the features\n",
    "merged_1 = pd.merge(custom_features_df, pos_ngrams_df, how='inner',left_index=True, right_index=True, copy=True)\n",
    "merged_2 = pd.merge(merged_1, text_ngrams_df, how='inner',left_index=True, right_index=True, copy=True)\n",
    "\n",
    "print(merged_2.shape)\n",
    "merged_2.head()"
   ]
  },
  {
   "cell_type": "markdown",
   "metadata": {},
   "source": [
    "### Prepare X & Y data"
   ]
  },
  {
   "cell_type": "code",
   "execution_count": 22,
   "metadata": {},
   "outputs": [],
   "source": [
    "feature_names = merged_2.columns"
   ]
  },
  {
   "cell_type": "code",
   "execution_count": 23,
   "metadata": {},
   "outputs": [
    {
     "data": {
      "text/plain": [
       "<1170x2020 sparse matrix of type '<class 'numpy.float64'>'\n",
       "\twith 95329 stored elements in Compressed Sparse Row format>"
      ]
     },
     "execution_count": 23,
     "metadata": {},
     "output_type": "execute_result"
    }
   ],
   "source": [
    "X_train = csr_matrix(merged_2)\n",
    "X_train"
   ]
  },
  {
   "cell_type": "code",
   "execution_count": 24,
   "metadata": {},
   "outputs": [
    {
     "name": "stdout",
     "output_type": "stream",
     "text": [
      "(1170, 2020)\n",
      "(1170,)\n"
     ]
    }
   ],
   "source": [
    "y_train_tmp = pd.DataFrame(y_train_tmp)\n",
    "y_train_scaled = StandardScaler().fit_transform(y_train_tmp.astype(float))\n",
    "y_train_scaled = pd.DataFrame(y_train_scaled, index=y_train_tmp.index, columns=['Score1'])\n",
    "y_train = np.squeeze(y_train_scaled)\n",
    "\n",
    "print(X_train.shape)\n",
    "print(y_train.shape)"
   ]
  },
  {
   "cell_type": "code",
   "execution_count": null,
   "metadata": {},
   "outputs": [],
   "source": []
  },
  {
   "cell_type": "code",
   "execution_count": null,
   "metadata": {},
   "outputs": [],
   "source": []
  },
  {
   "cell_type": "code",
   "execution_count": null,
   "metadata": {},
   "outputs": [],
   "source": []
  },
  {
   "cell_type": "code",
   "execution_count": null,
   "metadata": {},
   "outputs": [],
   "source": []
  },
  {
   "cell_type": "code",
   "execution_count": null,
   "metadata": {},
   "outputs": [],
   "source": []
  },
  {
   "cell_type": "code",
   "execution_count": null,
   "metadata": {},
   "outputs": [],
   "source": []
  },
  {
   "cell_type": "markdown",
   "metadata": {},
   "source": []
  },
  {
   "cell_type": "code",
   "execution_count": null,
   "metadata": {},
   "outputs": [],
   "source": []
  },
  {
   "cell_type": "markdown",
   "metadata": {},
   "source": []
  },
  {
   "cell_type": "code",
   "execution_count": null,
   "metadata": {},
   "outputs": [],
   "source": []
  },
  {
   "cell_type": "code",
   "execution_count": null,
   "metadata": {},
   "outputs": [],
   "source": []
  },
  {
   "cell_type": "code",
   "execution_count": null,
   "metadata": {},
   "outputs": [],
   "source": []
  },
  {
   "cell_type": "code",
   "execution_count": null,
   "metadata": {},
   "outputs": [],
   "source": []
  },
  {
   "cell_type": "markdown",
   "metadata": {},
   "source": [
    "## Feature Selection\n",
    "### F-regression"
   ]
  },
  {
   "cell_type": "code",
   "execution_count": 16,
   "metadata": {},
   "outputs": [],
   "source": [
    "from sklearn.feature_selection import mutual_info_regression, f_regression\n",
    "import eli5"
   ]
  },
  {
   "cell_type": "code",
   "execution_count": 144,
   "metadata": {},
   "outputs": [
    {
     "data": {
      "text/plain": [
       "array([0.10988513, 0.24523084, 0.        , ..., 0.        , 0.        ,\n",
       "       0.010372  ])"
      ]
     },
     "execution_count": 144,
     "metadata": {},
     "output_type": "execute_result"
    }
   ],
   "source": [
    "mutual_info_regression(X_train, y_train)"
   ]
  },
  {
   "cell_type": "code",
   "execution_count": 18,
   "metadata": {},
   "outputs": [],
   "source": [
    "f_feature_importance = f_regression(X_train, y_train, center=True)"
   ]
  },
  {
   "cell_type": "code",
   "execution_count": 89,
   "metadata": {},
   "outputs": [
    {
     "data": {
      "text/plain": [
       "(array([1.47774501e+02, 1.24067848e-01, 3.32975152e+00, ...,\n",
       "        3.52518326e-01, 5.29833371e-01, 9.03085369e-01]),\n",
       " array([4.21380872e-32, 7.24727327e-01, 6.82924861e-02, ...,\n",
       "        5.52805980e-01, 4.66822812e-01, 3.42152348e-01]))"
      ]
     },
     "execution_count": 89,
     "metadata": {},
     "output_type": "execute_result"
    }
   ],
   "source": [
    "f_feature_importance"
   ]
  },
  {
   "cell_type": "code",
   "execution_count": 145,
   "metadata": {},
   "outputs": [],
   "source": [
    "f_test, _ =  f_regression(X_train, y_train, center=True)\n",
    "f_test /= np.max(f_test)\n",
    "\n",
    "mi = mutual_info_regression(X_train, y_train)\n",
    "mi /= np.max(mi)"
   ]
  },
  {
   "cell_type": "code",
   "execution_count": 150,
   "metadata": {},
   "outputs": [
    {
     "data": {
      "text/plain": [
       "(1170,)"
      ]
     },
     "execution_count": 150,
     "metadata": {},
     "output_type": "execute_result"
    }
   ],
   "source": [
    "X_train.shape\n",
    "y_train.shape"
   ]
  },
  {
   "cell_type": "code",
   "execution_count": 148,
   "metadata": {},
   "outputs": [
    {
     "ename": "ValueError",
     "evalue": "x and y must be the same size",
     "output_type": "error",
     "traceback": [
      "\u001b[1;31m--------------------------------------------------------------------------\u001b[0m",
      "\u001b[1;31mValueError\u001b[0m                               Traceback (most recent call last)",
      "\u001b[1;32m<ipython-input-148-959ad08c28cd>\u001b[0m in \u001b[0;36m<module>\u001b[1;34m()\u001b[0m\n\u001b[0;32m      2\u001b[0m \u001b[1;32mfor\u001b[0m \u001b[0mi\u001b[0m \u001b[1;32min\u001b[0m \u001b[0mrange\u001b[0m\u001b[1;33m(\u001b[0m\u001b[1;36m3\u001b[0m\u001b[1;33m)\u001b[0m\u001b[1;33m:\u001b[0m\u001b[1;33m\u001b[0m\u001b[0m\n\u001b[0;32m      3\u001b[0m     \u001b[0mplt\u001b[0m\u001b[1;33m.\u001b[0m\u001b[0msubplot\u001b[0m\u001b[1;33m(\u001b[0m\u001b[1;36m1\u001b[0m\u001b[1;33m,\u001b[0m \u001b[1;36m3\u001b[0m\u001b[1;33m,\u001b[0m \u001b[0mi\u001b[0m \u001b[1;33m+\u001b[0m \u001b[1;36m1\u001b[0m\u001b[1;33m)\u001b[0m\u001b[1;33m\u001b[0m\u001b[0m\n\u001b[1;32m----> 4\u001b[1;33m     \u001b[0mplt\u001b[0m\u001b[1;33m.\u001b[0m\u001b[0mscatter\u001b[0m\u001b[1;33m(\u001b[0m\u001b[0mX_train\u001b[0m\u001b[1;33m[\u001b[0m\u001b[1;33m:\u001b[0m\u001b[1;33m,\u001b[0m \u001b[0mi\u001b[0m\u001b[1;33m]\u001b[0m\u001b[1;33m,\u001b[0m \u001b[0my_train\u001b[0m\u001b[1;33m,\u001b[0m \u001b[0medgecolor\u001b[0m\u001b[1;33m=\u001b[0m\u001b[1;34m'black'\u001b[0m\u001b[1;33m,\u001b[0m \u001b[0ms\u001b[0m\u001b[1;33m=\u001b[0m\u001b[1;36m20\u001b[0m\u001b[1;33m)\u001b[0m\u001b[1;33m\u001b[0m\u001b[0m\n\u001b[0m\u001b[0;32m      5\u001b[0m     \u001b[0mplt\u001b[0m\u001b[1;33m.\u001b[0m\u001b[0mxlabel\u001b[0m\u001b[1;33m(\u001b[0m\u001b[1;34m\"$x_{}$\"\u001b[0m\u001b[1;33m.\u001b[0m\u001b[0mformat\u001b[0m\u001b[1;33m(\u001b[0m\u001b[0mi\u001b[0m \u001b[1;33m+\u001b[0m \u001b[1;36m1\u001b[0m\u001b[1;33m)\u001b[0m\u001b[1;33m,\u001b[0m \u001b[0mfontsize\u001b[0m\u001b[1;33m=\u001b[0m\u001b[1;36m14\u001b[0m\u001b[1;33m)\u001b[0m\u001b[1;33m\u001b[0m\u001b[0m\n\u001b[0;32m      6\u001b[0m     \u001b[1;32mif\u001b[0m \u001b[0mi\u001b[0m \u001b[1;33m==\u001b[0m \u001b[1;36m0\u001b[0m\u001b[1;33m:\u001b[0m\u001b[1;33m\u001b[0m\u001b[0m\n",
      "\u001b[1;32mC:\\ProgramData\\Anaconda3\\envs\\stylistics\\lib\\site-packages\\matplotlib\\pyplot.py\u001b[0m in \u001b[0;36mscatter\u001b[1;34m(x, y, s, c, marker, cmap, norm, vmin, vmax, alpha, linewidths, verts, edgecolors, hold, data, **kwargs)\u001b[0m\n\u001b[0;32m   3468\u001b[0m                          \u001b[0mvmin\u001b[0m\u001b[1;33m=\u001b[0m\u001b[0mvmin\u001b[0m\u001b[1;33m,\u001b[0m \u001b[0mvmax\u001b[0m\u001b[1;33m=\u001b[0m\u001b[0mvmax\u001b[0m\u001b[1;33m,\u001b[0m \u001b[0malpha\u001b[0m\u001b[1;33m=\u001b[0m\u001b[0malpha\u001b[0m\u001b[1;33m,\u001b[0m\u001b[1;33m\u001b[0m\u001b[0m\n\u001b[0;32m   3469\u001b[0m                          \u001b[0mlinewidths\u001b[0m\u001b[1;33m=\u001b[0m\u001b[0mlinewidths\u001b[0m\u001b[1;33m,\u001b[0m \u001b[0mverts\u001b[0m\u001b[1;33m=\u001b[0m\u001b[0mverts\u001b[0m\u001b[1;33m,\u001b[0m\u001b[1;33m\u001b[0m\u001b[0m\n\u001b[1;32m-> 3470\u001b[1;33m                          edgecolors=edgecolors, data=data, **kwargs)\n\u001b[0m\u001b[0;32m   3471\u001b[0m     \u001b[1;32mfinally\u001b[0m\u001b[1;33m:\u001b[0m\u001b[1;33m\u001b[0m\u001b[0m\n\u001b[0;32m   3472\u001b[0m         \u001b[0max\u001b[0m\u001b[1;33m.\u001b[0m\u001b[0m_hold\u001b[0m \u001b[1;33m=\u001b[0m \u001b[0mwashold\u001b[0m\u001b[1;33m\u001b[0m\u001b[0m\n",
      "\u001b[1;32mC:\\ProgramData\\Anaconda3\\envs\\stylistics\\lib\\site-packages\\matplotlib\\__init__.py\u001b[0m in \u001b[0;36minner\u001b[1;34m(ax, *args, **kwargs)\u001b[0m\n\u001b[0;32m   1853\u001b[0m                         \u001b[1;34m\"the Matplotlib list!)\"\u001b[0m \u001b[1;33m%\u001b[0m \u001b[1;33m(\u001b[0m\u001b[0mlabel_namer\u001b[0m\u001b[1;33m,\u001b[0m \u001b[0mfunc\u001b[0m\u001b[1;33m.\u001b[0m\u001b[0m__name__\u001b[0m\u001b[1;33m)\u001b[0m\u001b[1;33m,\u001b[0m\u001b[1;33m\u001b[0m\u001b[0m\n\u001b[0;32m   1854\u001b[0m                         RuntimeWarning, stacklevel=2)\n\u001b[1;32m-> 1855\u001b[1;33m             \u001b[1;32mreturn\u001b[0m \u001b[0mfunc\u001b[0m\u001b[1;33m(\u001b[0m\u001b[0max\u001b[0m\u001b[1;33m,\u001b[0m \u001b[1;33m*\u001b[0m\u001b[0margs\u001b[0m\u001b[1;33m,\u001b[0m \u001b[1;33m**\u001b[0m\u001b[0mkwargs\u001b[0m\u001b[1;33m)\u001b[0m\u001b[1;33m\u001b[0m\u001b[0m\n\u001b[0m\u001b[0;32m   1856\u001b[0m \u001b[1;33m\u001b[0m\u001b[0m\n\u001b[0;32m   1857\u001b[0m         inner.__doc__ = _add_data_doc(inner.__doc__,\n",
      "\u001b[1;32mC:\\ProgramData\\Anaconda3\\envs\\stylistics\\lib\\site-packages\\matplotlib\\axes\\_axes.py\u001b[0m in \u001b[0;36mscatter\u001b[1;34m(self, x, y, s, c, marker, cmap, norm, vmin, vmax, alpha, linewidths, verts, edgecolors, **kwargs)\u001b[0m\n\u001b[0;32m   4241\u001b[0m         \u001b[0my\u001b[0m \u001b[1;33m=\u001b[0m \u001b[0mnp\u001b[0m\u001b[1;33m.\u001b[0m\u001b[0mma\u001b[0m\u001b[1;33m.\u001b[0m\u001b[0mravel\u001b[0m\u001b[1;33m(\u001b[0m\u001b[0my\u001b[0m\u001b[1;33m)\u001b[0m\u001b[1;33m\u001b[0m\u001b[0m\n\u001b[0;32m   4242\u001b[0m         \u001b[1;32mif\u001b[0m \u001b[0mx\u001b[0m\u001b[1;33m.\u001b[0m\u001b[0msize\u001b[0m \u001b[1;33m!=\u001b[0m \u001b[0my\u001b[0m\u001b[1;33m.\u001b[0m\u001b[0msize\u001b[0m\u001b[1;33m:\u001b[0m\u001b[1;33m\u001b[0m\u001b[0m\n\u001b[1;32m-> 4243\u001b[1;33m             \u001b[1;32mraise\u001b[0m \u001b[0mValueError\u001b[0m\u001b[1;33m(\u001b[0m\u001b[1;34m\"x and y must be the same size\"\u001b[0m\u001b[1;33m)\u001b[0m\u001b[1;33m\u001b[0m\u001b[0m\n\u001b[0m\u001b[0;32m   4244\u001b[0m \u001b[1;33m\u001b[0m\u001b[0m\n\u001b[0;32m   4245\u001b[0m         \u001b[1;32mif\u001b[0m \u001b[0ms\u001b[0m \u001b[1;32mis\u001b[0m \u001b[1;32mNone\u001b[0m\u001b[1;33m:\u001b[0m\u001b[1;33m\u001b[0m\u001b[0m\n",
      "\u001b[1;31mValueError\u001b[0m: x and y must be the same size"
     ]
    },
    {
     "data": {
      "image/png": "[encoded data removed]",
      "text/plain": [
       "<Figure size 1080x360 with 1 Axes>"
      ]
     },
     "metadata": {},
     "output_type": "display_data"
    }
   ],
   "source": [
    "plt.figure(figsize=(15, 5))\n",
    "for i in range(3):\n",
    "    plt.subplot(1, 3, i + 1)\n",
    "    plt.scatter(X_train[:, i], y_train, edgecolor='black', s=20)\n",
    "    plt.xlabel(\"$x_{}$\".format(i + 1), fontsize=14)\n",
    "    if i == 0:\n",
    "        plt.ylabel(\"$y$\", fontsize=14)\n",
    "    plt.title(\"F-test={:.2f}, MI={:.2f}\".format(f_test[i], mi[i]),\n",
    "              fontsize=16)\n",
    "plt.show()"
   ]
  },
  {
   "cell_type": "code",
   "execution_count": null,
   "metadata": {},
   "outputs": [],
   "source": []
  },
  {
   "cell_type": "code",
   "execution_count": 119,
   "metadata": {},
   "outputs": [
    {
     "data": {
      "text/plain": [
       "Lasso(alpha=0.1, copy_X=True, fit_intercept=True, max_iter=2000,\n",
       "   normalize=False, positive=False, precompute=False, random_state=None,\n",
       "   selection='cyclic', tol=1e-05, warm_start=False)"
      ]
     },
     "execution_count": 119,
     "metadata": {},
     "output_type": "execute_result"
    }
   ],
   "source": [
    "model = Lasso(alpha=0.1,max_iter=2000, tol=0.00001)\n",
    "model.fit(X_train, y_train)"
   ]
  },
  {
   "cell_type": "code",
   "execution_count": 120,
   "metadata": {},
   "outputs": [
    {
     "data": {
      "text/html": [
       "\n",
       "    <style>\n",
       "    table.eli5-weights tr:hover {\n",
       "        filter: brightness(85%);\n",
       "    }\n",
       "</style>\n",
       "\n",
       "\n",
       "\n",
       "    \n",
       "\n",
       "    \n",
       "\n",
       "    \n",
       "\n",
       "    \n",
       "\n",
       "    \n",
       "\n",
       "    \n",
       "\n",
       "\n",
       "    \n",
       "\n",
       "    \n",
       "\n",
       "    \n",
       "\n",
       "    \n",
       "        \n",
       "\n",
       "    \n",
       "\n",
       "        \n",
       "            \n",
       "                \n",
       "                \n",
       "    \n",
       "        <p style=\"margin-bottom: 0.5em; margin-top: 0em\">\n",
       "            <b>\n",
       "    \n",
       "        y\n",
       "    \n",
       "</b>\n",
       "\n",
       "top features\n",
       "        </p>\n",
       "    \n",
       "    <table class=\"eli5-weights\"\n",
       "           style=\"border-collapse: collapse; border: none; margin-top: 0em; table-layout: auto; margin-bottom: 2em;\">\n",
       "        <thead>\n",
       "        <tr style=\"border: none;\">\n",
       "            \n",
       "                <th style=\"padding: 0 1em 0 0.5em; text-align: right; border: none;\" title=\"Feature weights. Note that weights do not account for feature value scales, so if feature values have different scales, features with highest weights might not be the most important.\">\n",
       "                    Weight<sup>?</sup>\n",
       "                </th>\n",
       "            \n",
       "            <th style=\"padding: 0 0.5em 0 0.5em; text-align: left; border: none;\">Feature</th>\n",
       "            \n",
       "        </tr>\n",
       "        </thead>\n",
       "        <tbody>\n",
       "        \n",
       "            <tr style=\"background-color: hsl(120, 100.00%, 80.00%); border: none;\">\n",
       "    <td style=\"padding: 0 1em 0 0.5em; text-align: right; border: none;\">\n",
       "        +0.205\n",
       "    </td>\n",
       "    <td style=\"padding: 0 0.5em 0 0.5em; text-align: left; border: none;\">\n",
       "        __ADV__ __ADJ__ __NOUN__\n",
       "    </td>\n",
       "    \n",
       "</tr>\n",
       "        \n",
       "            <tr style=\"background-color: hsl(120, 100.00%, 85.30%); border: none;\">\n",
       "    <td style=\"padding: 0 1em 0 0.5em; text-align: right; border: none;\">\n",
       "        +0.132\n",
       "    </td>\n",
       "    <td style=\"padding: 0 0.5em 0 0.5em; text-align: left; border: none;\">\n",
       "        of __NOUN__\n",
       "    </td>\n",
       "    \n",
       "</tr>\n",
       "        \n",
       "            <tr style=\"background-color: hsl(120, 100.00%, 87.30%); border: none;\">\n",
       "    <td style=\"padding: 0 1em 0 0.5em; text-align: right; border: none;\">\n",
       "        +0.107\n",
       "    </td>\n",
       "    <td style=\"padding: 0 0.5em 0 0.5em; text-align: left; border: none;\">\n",
       "        to __VERB__\n",
       "    </td>\n",
       "    \n",
       "</tr>\n",
       "        \n",
       "            <tr style=\"background-color: hsl(120, 100.00%, 88.71%); border: none;\">\n",
       "    <td style=\"padding: 0 1em 0 0.5em; text-align: right; border: none;\">\n",
       "        +0.090\n",
       "    </td>\n",
       "    <td style=\"padding: 0 0.5em 0 0.5em; text-align: left; border: none;\">\n",
       "        __ADV__ __ADJ__\n",
       "    </td>\n",
       "    \n",
       "</tr>\n",
       "        \n",
       "            <tr style=\"background-color: hsl(120, 100.00%, 93.28%); border: none;\">\n",
       "    <td style=\"padding: 0 1em 0 0.5em; text-align: right; border: none;\">\n",
       "        +0.043\n",
       "    </td>\n",
       "    <td style=\"padding: 0 0.5em 0 0.5em; text-align: left; border: none;\">\n",
       "        __NOUN__ of __NOUN__\n",
       "    </td>\n",
       "    \n",
       "</tr>\n",
       "        \n",
       "            <tr style=\"background-color: hsl(120, 100.00%, 93.61%); border: none;\">\n",
       "    <td style=\"padding: 0 1em 0 0.5em; text-align: right; border: none;\">\n",
       "        +0.040\n",
       "    </td>\n",
       "    <td style=\"padding: 0 0.5em 0 0.5em; text-align: left; border: none;\">\n",
       "        __VERB__ __NOUN__ the\n",
       "    </td>\n",
       "    \n",
       "</tr>\n",
       "        \n",
       "            <tr style=\"background-color: hsl(120, 100.00%, 93.72%); border: none;\">\n",
       "    <td style=\"padding: 0 1em 0 0.5em; text-align: right; border: none;\">\n",
       "        +0.039\n",
       "    </td>\n",
       "    <td style=\"padding: 0 0.5em 0 0.5em; text-align: left; border: none;\">\n",
       "        __NOUN__ __VERB__ __VERB__\n",
       "    </td>\n",
       "    \n",
       "</tr>\n",
       "        \n",
       "            <tr style=\"background-color: hsl(120, 100.00%, 94.28%); border: none;\">\n",
       "    <td style=\"padding: 0 1em 0 0.5em; text-align: right; border: none;\">\n",
       "        +0.034\n",
       "    </td>\n",
       "    <td style=\"padding: 0 0.5em 0 0.5em; text-align: left; border: none;\">\n",
       "        __VERB__\n",
       "    </td>\n",
       "    \n",
       "</tr>\n",
       "        \n",
       "            <tr style=\"background-color: hsl(120, 100.00%, 95.76%); border: none;\">\n",
       "    <td style=\"padding: 0 1em 0 0.5em; text-align: right; border: none;\">\n",
       "        +0.022\n",
       "    </td>\n",
       "    <td style=\"padding: 0 0.5em 0 0.5em; text-align: left; border: none;\">\n",
       "        of __NOUN__ to\n",
       "    </td>\n",
       "    \n",
       "</tr>\n",
       "        \n",
       "            <tr style=\"background-color: hsl(120, 100.00%, 95.77%); border: none;\">\n",
       "    <td style=\"padding: 0 1em 0 0.5em; text-align: right; border: none;\">\n",
       "        +0.022\n",
       "    </td>\n",
       "    <td style=\"padding: 0 0.5em 0 0.5em; text-align: left; border: none;\">\n",
       "        __VERB__ into\n",
       "    </td>\n",
       "    \n",
       "</tr>\n",
       "        \n",
       "            <tr style=\"background-color: hsl(120, 100.00%, 96.63%); border: none;\">\n",
       "    <td style=\"padding: 0 1em 0 0.5em; text-align: right; border: none;\">\n",
       "        +0.016\n",
       "    </td>\n",
       "    <td style=\"padding: 0 0.5em 0 0.5em; text-align: left; border: none;\">\n",
       "        the __NOUN__ __VERB__\n",
       "    </td>\n",
       "    \n",
       "</tr>\n",
       "        \n",
       "            <tr style=\"background-color: hsl(120, 100.00%, 98.28%); border: none;\">\n",
       "    <td style=\"padding: 0 1em 0 0.5em; text-align: right; border: none;\">\n",
       "        +0.006\n",
       "    </td>\n",
       "    <td style=\"padding: 0 0.5em 0 0.5em; text-align: left; border: none;\">\n",
       "        __NOUN__ of\n",
       "    </td>\n",
       "    \n",
       "</tr>\n",
       "        \n",
       "            <tr style=\"background-color: hsl(120, 100.00%, 98.42%); border: none;\">\n",
       "    <td style=\"padding: 0 1em 0 0.5em; text-align: right; border: none;\">\n",
       "        +0.005\n",
       "    </td>\n",
       "    <td style=\"padding: 0 0.5em 0 0.5em; text-align: left; border: none;\">\n",
       "        __VERB__ .\n",
       "    </td>\n",
       "    \n",
       "</tr>\n",
       "        \n",
       "            <tr style=\"background-color: hsl(120, 100.00%, 98.57%); border: none;\">\n",
       "    <td style=\"padding: 0 1em 0 0.5em; text-align: right; border: none;\">\n",
       "        +0.005\n",
       "    </td>\n",
       "    <td style=\"padding: 0 0.5em 0 0.5em; text-align: left; border: none;\">\n",
       "        __ADV__ __VERB__ to\n",
       "    </td>\n",
       "    \n",
       "</tr>\n",
       "        \n",
       "            <tr style=\"background-color: hsl(120, 100.00%, 98.91%); border: none;\">\n",
       "    <td style=\"padding: 0 1em 0 0.5em; text-align: right; border: none;\">\n",
       "        +0.003\n",
       "    </td>\n",
       "    <td style=\"padding: 0 0.5em 0 0.5em; text-align: left; border: none;\">\n",
       "        __ADJ__ or\n",
       "    </td>\n",
       "    \n",
       "</tr>\n",
       "        \n",
       "            <tr style=\"background-color: hsl(120, 100.00%, 98.96%); border: none;\">\n",
       "    <td style=\"padding: 0 1em 0 0.5em; text-align: right; border: none;\">\n",
       "        +0.003\n",
       "    </td>\n",
       "    <td style=\"padding: 0 0.5em 0 0.5em; text-align: left; border: none;\">\n",
       "        __ADV__\n",
       "    </td>\n",
       "    \n",
       "</tr>\n",
       "        \n",
       "            <tr style=\"background-color: hsl(120, 100.00%, 98.97%); border: none;\">\n",
       "    <td style=\"padding: 0 1em 0 0.5em; text-align: right; border: none;\">\n",
       "        +0.003\n",
       "    </td>\n",
       "    <td style=\"padding: 0 0.5em 0 0.5em; text-align: left; border: none;\">\n",
       "        __NOUN__ __VERB__\n",
       "    </td>\n",
       "    \n",
       "</tr>\n",
       "        \n",
       "            <tr style=\"background-color: hsl(120, 100.00%, 99.40%); border: none;\">\n",
       "    <td style=\"padding: 0 1em 0 0.5em; text-align: right; border: none;\">\n",
       "        +0.001\n",
       "    </td>\n",
       "    <td style=\"padding: 0 0.5em 0 0.5em; text-align: left; border: none;\">\n",
       "        __VERB__ to\n",
       "    </td>\n",
       "    \n",
       "</tr>\n",
       "        \n",
       "            <tr style=\"background-color: hsl(120, 100.00%, 99.52%); border: none;\">\n",
       "    <td style=\"padding: 0 1em 0 0.5em; text-align: right; border: none;\">\n",
       "        +0.001\n",
       "    </td>\n",
       "    <td style=\"padding: 0 0.5em 0 0.5em; text-align: left; border: none;\">\n",
       "        __ADV__ ,\n",
       "    </td>\n",
       "    \n",
       "</tr>\n",
       "        \n",
       "        \n",
       "\n",
       "        \n",
       "        \n",
       "            <tr style=\"background-color: hsl(0, 100.00%, 98.85%); border: none;\">\n",
       "    <td style=\"padding: 0 1em 0 0.5em; text-align: right; border: none;\">\n",
       "        -0.003\n",
       "    </td>\n",
       "    <td style=\"padding: 0 0.5em 0 0.5em; text-align: left; border: none;\">\n",
       "        __NOUN__ from\n",
       "    </td>\n",
       "    \n",
       "</tr>\n",
       "        \n",
       "            <tr style=\"background-color: hsl(0, 100.00%, 92.57%); border: none;\">\n",
       "    <td style=\"padding: 0 1em 0 0.5em; text-align: right; border: none;\">\n",
       "        -0.050\n",
       "    </td>\n",
       "    <td style=\"padding: 0 0.5em 0 0.5em; text-align: left; border: none;\">\n",
       "        __VERB__ a\n",
       "    </td>\n",
       "    \n",
       "</tr>\n",
       "        \n",
       "\n",
       "        </tbody>\n",
       "    </table>\n",
       "\n",
       "            \n",
       "        \n",
       "\n",
       "        \n",
       "\n",
       "\n",
       "\n",
       "    \n",
       "\n",
       "    \n",
       "\n",
       "    \n",
       "\n",
       "    \n",
       "\n",
       "\n",
       "    \n",
       "\n",
       "    \n",
       "\n",
       "    \n",
       "\n",
       "    \n",
       "\n",
       "    \n",
       "\n",
       "    \n",
       "\n",
       "\n",
       "    \n",
       "\n",
       "    \n",
       "\n",
       "    \n",
       "\n",
       "    \n",
       "\n",
       "    \n",
       "\n",
       "    \n",
       "\n",
       "\n",
       "\n"
      ],
      "text/plain": [
       "<IPython.core.display.HTML object>"
      ]
     },
     "execution_count": 120,
     "metadata": {},
     "output_type": "execute_result"
    }
   ],
   "source": [
    "eli5.show_weights(model,feature_names=feature_names.tolist(), top=50, feature_filter=lambda x: x != '<BIAS>')"
   ]
  },
  {
   "cell_type": "code",
   "execution_count": 114,
   "metadata": {},
   "outputs": [
    {
     "data": {
      "text/plain": [
       "array([-0.10310734, -1.06439091,  0.93017838, -0.72357421,  0.99042745,\n",
       "        1.94298017,  2.13988165,  0.6726559 ,  1.86128365,  1.39889262,\n",
       "        1.6224753 ,  0.43443183,  0.42875832,  2.34513662,  1.76043046,\n",
       "        4.26970334,  4.30443154,  3.65902033,  7.03238791,  1.50382499,\n",
       "        2.12222398,  5.28094281, 17.13194182,  3.06859451, 12.11671044,\n",
       "        1.74834188,  3.85383773,  2.57052095,  5.28870621,  1.91493722,\n",
       "        3.13955121,  2.7927764 ,  3.2895291 ,  7.5196467 ,  1.88380398,\n",
       "        1.88714341,  1.85128436,  3.04122909,  3.89555916,  4.07040247,\n",
       "        2.17493441,  5.78075659, 17.13194182,  1.28541586,  3.00910439,\n",
       "        3.59496632, 14.00018409,  2.02975779,  2.46024277,  6.04016301,\n",
       "        1.52483125,  1.66196535,  3.77218729,  3.90053636,  3.44389975,\n",
       "       11.44586178,  5.87021366,  2.35433445, 12.96722314,  2.44846507,\n",
       "        6.5429529 , 11.44586178, 12.96722314,  2.25710825,  3.06076188,\n",
       "        2.76993884,  3.76332263,  0.90777107,  2.93772172,  3.06682298,\n",
       "        4.37506242,  5.93366104,  1.96797059,  2.20267027,  4.20143608])"
      ]
     },
     "execution_count": 114,
     "metadata": {},
     "output_type": "execute_result"
    }
   ],
   "source": [
    "X_train.getrow(10)."
   ]
  },
  {
   "cell_type": "code",
   "execution_count": 121,
   "metadata": {},
   "outputs": [],
   "source": [
    "#eli5.show_prediction(model, doc=merged_2[1154], feature_names=feature_names.tolist())"
   ]
  },
  {
   "cell_type": "code",
   "execution_count": 142,
   "metadata": {},
   "outputs": [],
   "source": [
    "#ranks_.rank(axis=1, method='average', numeric_only=None, na_option='keep', ascending=True, pct=True) #get average min/max\n",
    "#ranks_.columns"
   ]
  },
  {
   "cell_type": "code",
   "execution_count": 129,
   "metadata": {},
   "outputs": [
    {
     "name": "stderr",
     "output_type": "stream",
     "text": [
      "C:\\ProgramData\\Anaconda3\\envs\\stylistics\\lib\\site-packages\\yellowbrick\\features\\rankd.py:262: FutureWarning: Method .as_matrix will be removed in a future version. Use .values instead.\n",
      "  X = X.as_matrix()\n"
     ]
    },
    {
     "data": {
      "image/png": "[encoded data removed]",
      "text/plain": [
       "<Figure size 576x396 with 1 Axes>"
      ]
     },
     "metadata": {},
     "output_type": "display_data"
    }
   ],
   "source": [
    "from yellowbrick.features import Rank1D\n",
    "\n",
    "# Instantiate the 1D visualizer with the Sharpiro ranking algorithm\n",
    "visualizer = Rank1D(features=feature_names, algorithm='shapiro')\n",
    "\n",
    "visualizer.fit(merged_2, y_train)                # Fit the data to the visualizer\n",
    "ranks_= visualizer.transform(merged_2)             # Transform the data\n",
    "visualizer.poof()                   # Draw/show/poof the data"
   ]
  },
  {
   "cell_type": "code",
   "execution_count": 143,
   "metadata": {},
   "outputs": [],
   "source": [
    "# import matplotlib.pyplot as plt\n",
    "# from yellowbrick.features.importances import FeatureImportances\n",
    "\n",
    "# # Create a new figure\n",
    "# fig = plt.figure()\n",
    "# ax = fig.add_subplot()\n",
    "\n",
    "# # Title case the feature for better display and create the visualizer\n",
    "# labels = list(map(lambda s: s.title(), feature_names))\n",
    "# viz = FeatureImportances(Lasso(), ax=ax, labels=labels, relative=False)\n",
    "\n",
    "# # Fit and show the feature importances\n",
    "# viz.fit(X_train, y_train)\n",
    "# viz.poof()"
   ]
  },
  {
   "cell_type": "code",
   "execution_count": null,
   "metadata": {},
   "outputs": [],
   "source": [
    "from sklearn.feature_selection import SelectFromModel\n",
    "from sklearn.linear_model import Lasso"
   ]
  },
  {
   "cell_type": "code",
   "execution_count": null,
   "metadata": {},
   "outputs": [],
   "source": [
    "# We use the base estimator LassoCV since the L1 norm promotes sparsity of features.\n",
    "clf = Lasso(alpha=0.25, max_iter=2000,selection='cyclic')\n",
    "\n",
    "# Set a minimum threshold of 0.25\n",
    "sfm = SelectFromModel(clf)\n",
    "sfm.fit(X_train, y_train_scaled)\n"
   ]
  },
  {
   "cell_type": "code",
   "execution_count": null,
   "metadata": {},
   "outputs": [],
   "source": [
    "n_features = sfm.transform(X_train).shape[1]\n",
    "n_features"
   ]
  },
  {
   "cell_type": "code",
   "execution_count": null,
   "metadata": {},
   "outputs": [],
   "source": [
    "from sklearn.ensemble import ExtraTreesRegressor"
   ]
  },
  {
   "cell_type": "code",
   "execution_count": null,
   "metadata": {},
   "outputs": [],
   "source": [
    "forest = ExtraTreesRegressor(n_estimators=1000,\n",
    "                              max_features=50,\n",
    "                              random_state=0)\n",
    "\n",
    "forest.fit(X_train, y_train_scaled)\n",
    "#print(\"done in %0.3fs\" % (time() - t0))\n"
   ]
  },
  {
   "cell_type": "code",
   "execution_count": null,
   "metadata": {},
   "outputs": [],
   "source": [
    "importances = forest.feature_importances_\n",
    "#importances = importances.reshape(data.images[0].shape)"
   ]
  },
  {
   "cell_type": "code",
   "execution_count": null,
   "metadata": {},
   "outputs": [],
   "source": [
    "importances"
   ]
  },
  {
   "cell_type": "code",
   "execution_count": null,
   "metadata": {},
   "outputs": [],
   "source": []
  },
  {
   "cell_type": "markdown",
   "metadata": {},
   "source": [
    "## Modelling"
   ]
  },
  {
   "cell_type": "code",
   "execution_count": null,
   "metadata": {},
   "outputs": [],
   "source": [
    "import eli5\n",
    "from sklearn.linear_model import LinearRegression, Ridge, Lasso"
   ]
  },
  {
   "cell_type": "code",
   "execution_count": null,
   "metadata": {},
   "outputs": [],
   "source": [
    "model = Ridge(\n",
    "        solver='auto',\n",
    "        fit_intercept=True,\n",
    "        alpha=0.5,\n",
    "        max_iter=100,\n",
    "        normalize=False,\n",
    "        tol=0.05)\n",
    "\n",
    "y_pred_valid = model.predict(X_test)"
   ]
  },
  {
   "cell_type": "code",
   "execution_count": null,
   "metadata": {},
   "outputs": [],
   "source": [
    "# def get_rmsle(y_true, y_pred):\n",
    "#     return np.sqrt(mean_squared_log_error(np.expm1(y_true), np.expm1(y_pred)))\n",
    "\n",
    "cv = KFold(n_splits=10, shuffle=True, random_state=42)\n",
    "for train_ids, valid_ids in cv.split(X_train):\n",
    "    model = Ridge(\n",
    "        solver='auto',\n",
    "        fit_intercept=True,\n",
    "        alpha=0.5,\n",
    "        max_iter=100,\n",
    "        normalize=False,\n",
    "        tol=0.05)\n",
    "    model.fit(X_train[train_ids], y_train[train_ids])\n",
    "    y_pred_valid = model.predict(X_train[valid_ids])\n",
    "    rmsle = mean_squared_error(y_test, y_pred)\n",
    "    print(f'valid rmsle: {rmsle:.5f}')\n",
    "    break"
   ]
  },
  {
   "cell_type": "code",
   "execution_count": null,
   "metadata": {},
   "outputs": [],
   "source": []
  },
  {
   "cell_type": "code",
   "execution_count": null,
   "metadata": {},
   "outputs": [],
   "source": []
  },
  {
   "cell_type": "code",
   "execution_count": null,
   "metadata": {},
   "outputs": [],
   "source": []
  },
  {
   "cell_type": "code",
   "execution_count": null,
   "metadata": {},
   "outputs": [],
   "source": []
  },
  {
   "cell_type": "code",
   "execution_count": null,
   "metadata": {},
   "outputs": [],
   "source": []
  },
  {
   "cell_type": "code",
   "execution_count": null,
   "metadata": {},
   "outputs": [],
   "source": [
    "linear_regressor = LinearRegression()\n",
    "\n",
    "linear_regressor.fit(X_train, y_train)\n",
    "\n",
    "y_pred = linear_regressor.predict(X_test)\n",
    "\n",
    "# The coefficients\n",
    "print('Coefficients: \\n', linear_regressor.coef_)\n",
    "\n",
    "# The mean squared error\n",
    "print(\"Mean squared error: %.2f\" % mean_squared_error(y_test, y_pred))\n",
    "\n",
    "# Explained variance score: 1 is perfect prediction\n",
    "print('Variance score: %.2f' % linear_regressor.score(X_test, y_test))\n",
    "\n",
    "# Cohen’s kappa score: 1 is complete agreement\n",
    "print('Cohen\\'s kappa score: %.2f' % cohen_kappa_score(np.rint(y_pred), y_test))"
   ]
  },
  {
   "cell_type": "code",
   "execution_count": null,
   "metadata": {},
   "outputs": [],
   "source": []
  },
  {
   "cell_type": "code",
   "execution_count": null,
   "metadata": {},
   "outputs": [],
   "source": []
  },
  {
   "cell_type": "code",
   "execution_count": null,
   "metadata": {},
   "outputs": [],
   "source": []
  },
  {
   "cell_type": "code",
   "execution_count": null,
   "metadata": {},
   "outputs": [],
   "source": [
    "#mutual_info_regression(X_train, y_train_scaled)"
   ]
  },
  {
   "cell_type": "code",
   "execution_count": null,
   "metadata": {},
   "outputs": [],
   "source": []
  },
  {
   "cell_type": "code",
   "execution_count": null,
   "metadata": {},
   "outputs": [],
   "source": []
  },
  {
   "cell_type": "code",
   "execution_count": null,
   "metadata": {},
   "outputs": [],
   "source": []
  },
  {
   "cell_type": "code",
   "execution_count": null,
   "metadata": {},
   "outputs": [],
   "source": [
    "plt.subplots(1, figsize=(26, 1))\n",
    "#set1_mutual_information[:, np.newaxis].T\n",
    "sns.heatmap(set1_mutual_information[1:10, np.newaxis].T, cmap='Blues', cbar=False, linewidths=1, annot=True)\n",
    "plt.yticks([], [])\n",
    "plt.gca().set_xticklabels(merge_2.columns[1:10], rotation=45, ha='right', fontsize=12)\n",
    "plt.suptitle(\"Set1 Variable Importance (mutual_info_classif)\", fontsize=18, y=1.2)\n",
    "plt.gcf().subplots_adjust(wspace=0.2)\n",
    "pass"
   ]
  },
  {
   "cell_type": "code",
   "execution_count": null,
   "metadata": {},
   "outputs": [],
   "source": []
  },
  {
   "cell_type": "code",
   "execution_count": null,
   "metadata": {},
   "outputs": [],
   "source": []
  },
  {
   "cell_type": "code",
   "execution_count": null,
   "metadata": {},
   "outputs": [],
   "source": []
  },
  {
   "cell_type": "code",
   "execution_count": null,
   "metadata": {},
   "outputs": [],
   "source": [
    "def spacy_pos_tagger(doc):\n",
    "    content_words = ['NOUN', 'PROPN', 'VERB', 'ADJ', 'ADV']\n",
    "    \n",
    "    doc = nlp(doc)\n",
    "    \n",
    "    #remove ^p (bullet points)\n",
    "    \n",
    "    return ['__{}__'.format(w.pos_) if w.pos_ in content_words else w.pos_ for w in doc]  \n",
    "    \n",
    "\n",
    "\n",
    "vectorizer = CountVectorizer(ngram_range=(1,1), max_features=200, tokenizer=spacy_pos_tagger)\n",
    "X_train_counts = vectorizer.fit_transform(train.clean_text)\n",
    "print(X_train_counts.shape)\n",
    "\n",
    "pd.DataFrame(X_train_counts.toarray(), columns=vectorizer.get_feature_names()).head()\n"
   ]
  },
  {
   "cell_type": "code",
   "execution_count": null,
   "metadata": {},
   "outputs": [],
   "source": []
  },
  {
   "cell_type": "code",
   "execution_count": null,
   "metadata": {},
   "outputs": [],
   "source": []
  },
  {
   "cell_type": "code",
   "execution_count": null,
   "metadata": {},
   "outputs": [],
   "source": []
  },
  {
   "cell_type": "code",
   "execution_count": null,
   "metadata": {},
   "outputs": [],
   "source": []
  },
  {
   "cell_type": "code",
   "execution_count": null,
   "metadata": {},
   "outputs": [],
   "source": []
  },
  {
   "cell_type": "code",
   "execution_count": null,
   "metadata": {},
   "outputs": [],
   "source": []
  },
  {
   "cell_type": "code",
   "execution_count": null,
   "metadata": {},
   "outputs": [],
   "source": []
  },
  {
   "cell_type": "code",
   "execution_count": null,
   "metadata": {},
   "outputs": [],
   "source": []
  },
  {
   "cell_type": "code",
   "execution_count": null,
   "metadata": {},
   "outputs": [],
   "source": []
  },
  {
   "cell_type": "code",
   "execution_count": null,
   "metadata": {},
   "outputs": [],
   "source": []
  },
  {
   "cell_type": "code",
   "execution_count": null,
   "metadata": {},
   "outputs": [],
   "source": []
  },
  {
   "cell_type": "code",
   "execution_count": null,
   "metadata": {},
   "outputs": [],
   "source": []
  },
  {
   "cell_type": "code",
   "execution_count": null,
   "metadata": {},
   "outputs": [],
   "source": []
  },
  {
   "cell_type": "code",
   "execution_count": null,
   "metadata": {},
   "outputs": [],
   "source": []
  },
  {
   "cell_type": "code",
   "execution_count": null,
   "metadata": {},
   "outputs": [],
   "source": []
  },
  {
   "cell_type": "code",
   "execution_count": null,
   "metadata": {},
   "outputs": [],
   "source": []
  },
  {
   "cell_type": "code",
   "execution_count": null,
   "metadata": {},
   "outputs": [],
   "source": [
    "content_words = ['NOUN', 'PROPN', 'VERB', 'ADJ', 'ADV']\n",
    "tokens = []\n",
    "sentences = []\n",
    "word_count = []\n",
    "word_len = []\n",
    "tf_text = []\n",
    "\n",
    "for doc in nlp.pipe(new_df['EssayText'], batch_size=50, n_threads=4):\n",
    "        \n",
    "    if doc.is_parsed:\n",
    "        #Add placeholders for CONTENT words, else parse as usual\n",
    "        tokens.append(['__{}__'.format(w.pos_) if w.pos_ in content_words else w.lemma_.lower() for w in doc])\n",
    "        #tf_text.append((' '.join(t for t in tokens)))\n",
    "         \n",
    "        \n",
    "#         sentences.append([sent.text for sent in doc.sents])\n",
    "        #word_count.append(len([w for w in doc if not w.is_punct]))\n",
    "        word_len.append(np.sum([len(w) for w in doc if not w.is_punct]))\n",
    "    \n",
    "    else:\n",
    "        # We want to make sure that the lists of parsed results have the\n",
    "        # same number of entries of the original Dataframe, so add some blanks in case the parse fails\n",
    "        tokens.append(None)\n",
    "        #pos.append(None)        \n",
    "#         sentences.append(None)\n",
    "\n",
    "    \n",
    "#train['tokens'] = tokens\n",
    "#train['pos'] = pos\n",
    "#train['total_words'] = word_count\n",
    "#train['avg_word_length'] = word_len\n",
    "# X_train['lemmas'] = lemmas\n",
    "# X_train['sentences'] = sentences\n",
    "\n",
    "train.head()"
   ]
  },
  {
   "cell_type": "code",
   "execution_count": null,
   "metadata": {},
   "outputs": [],
   "source": []
  },
  {
   "cell_type": "code",
   "execution_count": null,
   "metadata": {},
   "outputs": [],
   "source": [
    "train['clean_text'] = tf_text\n",
    "train.head()"
   ]
  },
  {
   "cell_type": "code",
   "execution_count": null,
   "metadata": {},
   "outputs": [],
   "source": [
    "def get_numeric_features(df, col):\n",
    "    \n",
    "    content_words = ['NOUN', 'PROPN', 'VERB', 'ADJ', 'ADV']\n",
    "    tokens = []\n",
    "    pos = []\n",
    "    #sentences = []\n",
    "    word_count = []\n",
    "    word_len = []\n",
    "    #tf_text = []\n",
    "    \n",
    "    for doc in nlp.pipe(df[col], batch_size=50, n_threads=4, disable=['ner']):\n",
    "        \n",
    "        if doc.is_parsed:\n",
    "            #Add placeholders for CONTENT words, else parse as usual\n",
    "            tokens.append(['__{}__'.format(w.pos_) if w.pos_ in content_words else w.lemma_.lower() for w in doc])\n",
    "            \n",
    "            #tf_text.append('__{}__'.format(w.pos_) if w.pos_ in content_words else w.lemma_.lower() for w in doc)\n",
    "        \n",
    "            #pos.append([n.pos_ for n in doc])\n",
    "            #sentences.append([sent.text for sent in doc.sents])\n",
    "            \n",
    "            word_count.append(len([w for w in doc if not w.is_punct]))\n",
    "            word_len.append(np.sum([len(w) for w in doc if not w.is_punct]))\n",
    "    \n",
    "        else:\n",
    "            \n",
    "            # We want to make sure that the lists of parsed results have the\n",
    "            # same number of entries of the original Dataframe, so add some blanks in case the parse fails\n",
    "\n",
    "            tokens.append(None)\n",
    "            pos.append(None)        \n",
    "            #sentences.append(None)\n",
    "            word_count.append(None)\n",
    "            word_len.append(None)\n",
    "    \n",
    "     \n",
    "    #df['tokens'] = tokens\n",
    "    #df['pos'] = pos\n",
    "    df['total_words'] = word_count\n",
    "    df['avg_word_length'] = word_len\n",
    "    #df['lemmas'] = lemmas\n",
    "    #df['sentences'] = sentences\n",
    "\n",
    "    return df\n",
    "    "
   ]
  },
  {
   "cell_type": "code",
   "execution_count": null,
   "metadata": {},
   "outputs": [],
   "source": [
    "test = get_numeric_features(train, \"EssayText\")\n",
    "test.head()"
   ]
  },
  {
   "cell_type": "code",
   "execution_count": null,
   "metadata": {},
   "outputs": [],
   "source": [
    "def spacy_tokenizer(doc):\n",
    "    content_words = ['NOUN', 'PROPN', 'VERB', 'ADJ', 'ADV']\n",
    "    \n",
    "    doc = nlp(doc)\n",
    "    \n",
    "    #remove ^p (bullet points)\n",
    "    \n",
    "    return ['__{}__'.format(w.pos_) if w.pos_ in content_words else w.lemma_.lower() for w in doc]  \n",
    "    \n",
    "\n",
    "\n",
    "vectorizer = CountVectorizer(tokenizer=spacy_tokenizer, ngram_range=(2,3), max_features=2000)\n",
    "X_train_counts = vectorizer.fit_transform(text)\n",
    "\n",
    "print(X_train_counts.shape)\n",
    "\n",
    "#print(count_vect.vocabulary_)\n",
    "pd.DataFrame(X_train_counts.toarray(), columns=vectorizer.get_feature_names()).head(10)"
   ]
  },
  {
   "cell_type": "code",
   "execution_count": null,
   "metadata": {},
   "outputs": [],
   "source": [
    "def spacy_pos_tagger(doc):\n",
    "    content_words = ['NOUN', 'PROPN', 'VERB', 'ADJ', 'ADV']\n",
    "    \n",
    "    doc = nlp(doc)\n",
    "    \n",
    "    #remove ^p (bullet points)\n",
    "    \n",
    "    return ['__{}__'.format(w.pos_) if w.pos_ in content_words else w.pos_ for w in doc]  \n",
    "    \n",
    "\n",
    "\n",
    "vectorizer = CountVectorizer(ngram_range=(1,1), max_features=200, tokenizer=spacy_pos_tagger)\n",
    "X_train_counts = vectorizer.fit_transform(train.clean_text)\n",
    "print(X_train_counts.shape)\n",
    "\n",
    "pd.DataFrame(X_train_counts.toarray(), columns=vectorizer.get_feature_names()).head()"
   ]
  },
  {
   "cell_type": "code",
   "execution_count": null,
   "metadata": {},
   "outputs": [],
   "source": []
  },
  {
   "cell_type": "code",
   "execution_count": null,
   "metadata": {},
   "outputs": [],
   "source": [
    "vectorizer = CountVectorizer(ngram_range=(2,3), max_features=200, tokenizer=spacy_pos_tagger)\n",
    "X_train_counts = vectorizer.fit_transform(train.clean_text)\n",
    "X_train_counts.shape\n",
    "\n",
    "#print(count_vect.vocabulary_)\n",
    "pd.DataFrame(X_train_counts.toarray(), columns=vectorizer.get_feature_names()).head(10)\n",
    "\n",
    "################################################\n",
    "vectorizer = CountVectorizer(tokenizer=spacy_tokenizer, ngram_range=(2,3), max_features=2000)\n",
    "X_train_counts = vectorizer.fit_transform(text)\n",
    "\n",
    "print(X_train_counts.shape)\n",
    "\n",
    "#print(count_vect.vocabulary_)\n",
    "pd.DataFrame(X_train_counts.toarray(), columns=vectorizer.get_feature_names()).head(10)"
   ]
  },
  {
   "cell_type": "markdown",
   "metadata": {},
   "source": [
    "## Maturity, Concreteness"
   ]
  },
  {
   "cell_type": "code",
   "execution_count": null,
   "metadata": {},
   "outputs": [],
   "source": [
    "#content_words = ['NOUN', 'PROPN', 'VERB', 'ADJ', 'ADV']\n",
    "# new_df = train[['EssayText']][0:5]\n",
    "# new_df = new_df.copy() \n",
    "\n",
    "def get_maturity(col):\n",
    "    \n",
    "    aoa_ratings_df = pd.read_csv(ratingsFolder/'AoA_Ratings.csv')\n",
    "    aoa_ratings = dict(zip(aoa_ratings_df.Word, aoa_ratings_df.AoA))\n",
    "    \n",
    "    tokens = []\n",
    "    maturity = []\n",
    "    mat_tmp = []\n",
    "    \n",
    "    \n",
    "    for doc in nlp.pipe(col, batch_size=50, n_threads=4, disable=['ner']):\n",
    "\n",
    "        if doc.is_parsed:\n",
    "            #Add placeholders for CONTENT words, else parse as usual. If -PRON- then add actual word else lemma.\n",
    "            tokens.append([w.text.lower() if w.lemma_ == '-PRON-' else w.lemma_.lower() for w in doc])\n",
    "\n",
    "            #maturity.append([value.get('name') for value in d.values()])\n",
    "\n",
    "            mat_tmp.append([aoa_ratings[t] for a in tokens for t in a if t in aoa_ratings])\n",
    "    \n",
    "    #Now get avg maturity per doc\n",
    "    for i in mat_tmp:\n",
    "            avg = sum(i)/len(i)\n",
    "            maturity.append(avg)\n",
    "\n",
    "    return maturity"
   ]
  },
  {
   "cell_type": "code",
   "execution_count": null,
   "metadata": {},
   "outputs": [],
   "source": [
    "get_maturity(new_df['EssayText'])"
   ]
  },
  {
   "cell_type": "code",
   "execution_count": null,
   "metadata": {},
   "outputs": [],
   "source": [
    "def get_concreteness(col):\n",
    "    \n",
    "    conc_ratings_df = pd.read_csv(ratingsFolder/'Concreteness_Ratings.csv')\n",
    "    conc_ratings = dict(zip(conc_ratings_df.Word, conc_ratings_df.Concreteness))\n",
    "    \n",
    "    tokens = []\n",
    "    concreteness = []\n",
    "    conc_tmp = []\n",
    "    \n",
    "    \n",
    "    for doc in nlp.pipe(col, batch_size=50, n_threads=4, disable=['ner']):\n",
    "\n",
    "        if doc.is_parsed:\n",
    "            \n",
    "            tokens.append([w.text.lower() for w in doc])\n",
    "            conc_tmp.append([conc_ratings[t] for a in tokens for t in a if t in conc_ratings])\n",
    "    \n",
    "    #Now get avg concreteness per doc\n",
    "    for i in conc_tmp:\n",
    "        avg = sum(i)/len(i)\n",
    "        concreteness.append(avg)\n",
    "\n",
    "    return concreteness"
   ]
  },
  {
   "cell_type": "code",
   "execution_count": null,
   "metadata": {},
   "outputs": [],
   "source": [
    "get_concreteness(new_df['EssayText'])"
   ]
  },
  {
   "cell_type": "markdown",
   "metadata": {},
   "source": [
    "## Words per T-unit\n",
    "\n",
    "https://github.com/explosion/spaCy/issues/252\n",
    "\n",
    "http://mlreference.com/dependency-tree-spacy\n",
    "\n",
    "http://grammar.yourdictionary.com/grammar-rules-and-tips/grammar-clause.html\n",
    "\n",
    "https://shirishkadam.com/2016/12/23/dependency-parsing-in-nlp/\n",
    "\n",
    "https://stackoverflow.com/questions/36610179/how-to-get-the-dependency-tree-with-spacy"
   ]
  },
  {
   "cell_type": "code",
   "execution_count": null,
   "metadata": {},
   "outputs": [],
   "source": [
    "mydoc = (u'Apple is looking at buying U.K. startup for $1 billion. This is another sentence.')\n",
    "mydoc\n",
    "\n",
    "words_per_t_unit = []\n",
    "\n",
    "for doc in nlp.pipe(new_df['EssayText']):\n",
    "    tokens = []\n",
    "    words = []\n",
    "    \n",
    "    for sent in doc.sents:\n",
    "        #print(sent)\n",
    "        tokens.append([w.text.lower() for w in sent if w.pos_ not in ['PUNCT','SYM','X','SPACE']])\n",
    "        \n",
    "    \n",
    "    #Get number of words in a sentence\n",
    "    for i in tokens:\n",
    "        words.append(len(i))\n",
    "    \n",
    "    #Get avg words per sentence for the doc\n",
    "    words_per_t_unit.append(sum(words)/len(words))"
   ]
  },
  {
   "cell_type": "code",
   "execution_count": null,
   "metadata": {},
   "outputs": [],
   "source": [
    "word_count"
   ]
  }
 ],
 "metadata": {
  "kernelspec": {
   "display_name": "Python (stylistics)",
   "language": "python",
   "name": "stylistics"
  },
  "language_info": {
   "codemirror_mode": {
    "name": "ipython",
    "version": 3
   },
   "file_extension": ".py",
   "mimetype": "text/x-python",
   "name": "python",
   "nbconvert_exporter": "python",
   "pygments_lexer": "ipython3",
   "version": "3.6.6"
  }
 },
 "nbformat": 4,
 "nbformat_minor": 2
}
